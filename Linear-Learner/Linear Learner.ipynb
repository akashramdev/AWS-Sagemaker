{
 "cells": [
  {
   "cell_type": "code",
   "execution_count": 1,
   "id": "a66e7d84-bcdd-4f52-bccd-5e8c6e37e683",
   "metadata": {
    "tags": []
   },
   "outputs": [],
   "source": [
    "# import libraries \n",
    "import numpy as np\n",
    "import pandas as pd\n",
    "import seaborn as sns \n",
    "import matplotlib.pyplot as plt \n",
    "%matplotlib inline"
   ]
  },
  {
   "cell_type": "markdown",
   "id": "9f4ab134-ecc2-46f0-948a-1c279f85a1e6",
   "metadata": {},
   "source": [
    "## Data Understanding"
   ]
  },
  {
   "cell_type": "code",
   "execution_count": 2,
   "id": "52db4ba2-eaba-4e87-8bab-71721a1ab1ca",
   "metadata": {
    "tags": []
   },
   "outputs": [
    {
     "data": {
      "text/html": [
       "<div>\n",
       "<style scoped>\n",
       "    .dataframe tbody tr th:only-of-type {\n",
       "        vertical-align: middle;\n",
       "    }\n",
       "\n",
       "    .dataframe tbody tr th {\n",
       "        vertical-align: top;\n",
       "    }\n",
       "\n",
       "    .dataframe thead th {\n",
       "        text-align: right;\n",
       "    }\n",
       "</style>\n",
       "<table border=\"1\" class=\"dataframe\">\n",
       "  <thead>\n",
       "    <tr style=\"text-align: right;\">\n",
       "      <th></th>\n",
       "      <th>YearsExperience</th>\n",
       "      <th>Salary</th>\n",
       "    </tr>\n",
       "  </thead>\n",
       "  <tbody>\n",
       "    <tr>\n",
       "      <th>0</th>\n",
       "      <td>1.1</td>\n",
       "      <td>39343</td>\n",
       "    </tr>\n",
       "    <tr>\n",
       "      <th>1</th>\n",
       "      <td>1.3</td>\n",
       "      <td>46205</td>\n",
       "    </tr>\n",
       "    <tr>\n",
       "      <th>2</th>\n",
       "      <td>1.5</td>\n",
       "      <td>37731</td>\n",
       "    </tr>\n",
       "    <tr>\n",
       "      <th>3</th>\n",
       "      <td>2.0</td>\n",
       "      <td>43525</td>\n",
       "    </tr>\n",
       "    <tr>\n",
       "      <th>4</th>\n",
       "      <td>2.2</td>\n",
       "      <td>39891</td>\n",
       "    </tr>\n",
       "  </tbody>\n",
       "</table>\n",
       "</div>"
      ],
      "text/plain": [
       "   YearsExperience  Salary\n",
       "0              1.1   39343\n",
       "1              1.3   46205\n",
       "2              1.5   37731\n",
       "3              2.0   43525\n",
       "4              2.2   39891"
      ]
     },
     "execution_count": 2,
     "metadata": {},
     "output_type": "execute_result"
    }
   ],
   "source": [
    "# read the data file \n",
    "\n",
    "df = pd.read_csv(\"salary.csv\")\n",
    "df.head()"
   ]
  },
  {
   "cell_type": "code",
   "execution_count": null,
   "id": "78082f9a-c991-4a27-8847-b713df165973",
   "metadata": {},
   "outputs": [],
   "source": []
  },
  {
   "cell_type": "code",
   "execution_count": 3,
   "id": "58632ef2-7a3c-4dd4-bc8d-cb4dfe9f92ee",
   "metadata": {
    "tags": []
   },
   "outputs": [
    {
     "name": "stdout",
     "output_type": "stream",
     "text": [
      "<class 'pandas.core.frame.DataFrame'>\n",
      "RangeIndex: 35 entries, 0 to 34\n",
      "Data columns (total 2 columns):\n",
      " #   Column           Non-Null Count  Dtype  \n",
      "---  ------           --------------  -----  \n",
      " 0   YearsExperience  35 non-null     float64\n",
      " 1   Salary           35 non-null     int64  \n",
      "dtypes: float64(1), int64(1)\n",
      "memory usage: 688.0 bytes\n"
     ]
    }
   ],
   "source": [
    "df.info()"
   ]
  },
  {
   "cell_type": "code",
   "execution_count": 4,
   "id": "47810e54-989a-42d4-9c0c-073180cdc728",
   "metadata": {
    "tags": []
   },
   "outputs": [
    {
     "data": {
      "text/html": [
       "<div>\n",
       "<style scoped>\n",
       "    .dataframe tbody tr th:only-of-type {\n",
       "        vertical-align: middle;\n",
       "    }\n",
       "\n",
       "    .dataframe tbody tr th {\n",
       "        vertical-align: top;\n",
       "    }\n",
       "\n",
       "    .dataframe thead th {\n",
       "        text-align: right;\n",
       "    }\n",
       "</style>\n",
       "<table border=\"1\" class=\"dataframe\">\n",
       "  <thead>\n",
       "    <tr style=\"text-align: right;\">\n",
       "      <th></th>\n",
       "      <th>YearsExperience</th>\n",
       "      <th>Salary</th>\n",
       "    </tr>\n",
       "  </thead>\n",
       "  <tbody>\n",
       "    <tr>\n",
       "      <th>count</th>\n",
       "      <td>35.000000</td>\n",
       "      <td>35.000000</td>\n",
       "    </tr>\n",
       "    <tr>\n",
       "      <th>mean</th>\n",
       "      <td>6.308571</td>\n",
       "      <td>83945.600000</td>\n",
       "    </tr>\n",
       "    <tr>\n",
       "      <th>std</th>\n",
       "      <td>3.618610</td>\n",
       "      <td>32162.673003</td>\n",
       "    </tr>\n",
       "    <tr>\n",
       "      <th>min</th>\n",
       "      <td>1.100000</td>\n",
       "      <td>37731.000000</td>\n",
       "    </tr>\n",
       "    <tr>\n",
       "      <th>25%</th>\n",
       "      <td>3.450000</td>\n",
       "      <td>57019.000000</td>\n",
       "    </tr>\n",
       "    <tr>\n",
       "      <th>50%</th>\n",
       "      <td>5.300000</td>\n",
       "      <td>81363.000000</td>\n",
       "    </tr>\n",
       "    <tr>\n",
       "      <th>75%</th>\n",
       "      <td>9.250000</td>\n",
       "      <td>113223.500000</td>\n",
       "    </tr>\n",
       "    <tr>\n",
       "      <th>max</th>\n",
       "      <td>13.500000</td>\n",
       "      <td>139465.000000</td>\n",
       "    </tr>\n",
       "  </tbody>\n",
       "</table>\n",
       "</div>"
      ],
      "text/plain": [
       "       YearsExperience         Salary\n",
       "count        35.000000      35.000000\n",
       "mean          6.308571   83945.600000\n",
       "std           3.618610   32162.673003\n",
       "min           1.100000   37731.000000\n",
       "25%           3.450000   57019.000000\n",
       "50%           5.300000   81363.000000\n",
       "75%           9.250000  113223.500000\n",
       "max          13.500000  139465.000000"
      ]
     },
     "execution_count": 4,
     "metadata": {},
     "output_type": "execute_result"
    }
   ],
   "source": [
    "df.describe()"
   ]
  },
  {
   "cell_type": "code",
   "execution_count": 5,
   "id": "c7a4a35f-a01c-47bb-a1df-e66d21a36020",
   "metadata": {
    "tags": []
   },
   "outputs": [
    {
     "data": {
      "text/plain": [
       "YearsExperience    0\n",
       "Salary             0\n",
       "dtype: int64"
      ]
     },
     "execution_count": 5,
     "metadata": {},
     "output_type": "execute_result"
    }
   ],
   "source": [
    "df.isnull().sum()"
   ]
  },
  {
   "cell_type": "code",
   "execution_count": 6,
   "id": "e4a44902-31b4-4998-acbf-ecda20134fd2",
   "metadata": {
    "tags": []
   },
   "outputs": [],
   "source": [
    "max = df[df['Salary']==df['Salary'].max()]"
   ]
  },
  {
   "cell_type": "code",
   "execution_count": 7,
   "id": "a97f92c2-26e5-4c03-a4e3-2e7a407b1564",
   "metadata": {
    "tags": []
   },
   "outputs": [
    {
     "data": {
      "text/html": [
       "<div>\n",
       "<style scoped>\n",
       "    .dataframe tbody tr th:only-of-type {\n",
       "        vertical-align: middle;\n",
       "    }\n",
       "\n",
       "    .dataframe tbody tr th {\n",
       "        vertical-align: top;\n",
       "    }\n",
       "\n",
       "    .dataframe thead th {\n",
       "        text-align: right;\n",
       "    }\n",
       "</style>\n",
       "<table border=\"1\" class=\"dataframe\">\n",
       "  <thead>\n",
       "    <tr style=\"text-align: right;\">\n",
       "      <th></th>\n",
       "      <th>YearsExperience</th>\n",
       "      <th>Salary</th>\n",
       "    </tr>\n",
       "  </thead>\n",
       "  <tbody>\n",
       "    <tr>\n",
       "      <th>34</th>\n",
       "      <td>13.5</td>\n",
       "      <td>139465</td>\n",
       "    </tr>\n",
       "  </tbody>\n",
       "</table>\n",
       "</div>"
      ],
      "text/plain": [
       "    YearsExperience  Salary\n",
       "34             13.5  139465"
      ]
     },
     "execution_count": 7,
     "metadata": {},
     "output_type": "execute_result"
    }
   ],
   "source": [
    "max"
   ]
  },
  {
   "cell_type": "code",
   "execution_count": 8,
   "id": "a4932bd8-633d-4042-af6b-ca66810afc93",
   "metadata": {
    "tags": []
   },
   "outputs": [],
   "source": [
    "min = df[df['Salary']==df['Salary'].min()]"
   ]
  },
  {
   "cell_type": "code",
   "execution_count": 9,
   "id": "9eaa892b-aa92-4409-b928-c6997da0c689",
   "metadata": {
    "tags": []
   },
   "outputs": [
    {
     "data": {
      "text/html": [
       "<div>\n",
       "<style scoped>\n",
       "    .dataframe tbody tr th:only-of-type {\n",
       "        vertical-align: middle;\n",
       "    }\n",
       "\n",
       "    .dataframe tbody tr th {\n",
       "        vertical-align: top;\n",
       "    }\n",
       "\n",
       "    .dataframe thead th {\n",
       "        text-align: right;\n",
       "    }\n",
       "</style>\n",
       "<table border=\"1\" class=\"dataframe\">\n",
       "  <thead>\n",
       "    <tr style=\"text-align: right;\">\n",
       "      <th></th>\n",
       "      <th>YearsExperience</th>\n",
       "      <th>Salary</th>\n",
       "    </tr>\n",
       "  </thead>\n",
       "  <tbody>\n",
       "    <tr>\n",
       "      <th>2</th>\n",
       "      <td>1.5</td>\n",
       "      <td>37731</td>\n",
       "    </tr>\n",
       "  </tbody>\n",
       "</table>\n",
       "</div>"
      ],
      "text/plain": [
       "   YearsExperience  Salary\n",
       "2              1.5   37731"
      ]
     },
     "execution_count": 9,
     "metadata": {},
     "output_type": "execute_result"
    }
   ],
   "source": [
    "min"
   ]
  },
  {
   "cell_type": "code",
   "execution_count": 10,
   "id": "c8445289-4698-4a13-9f50-d1854aac7ae4",
   "metadata": {
    "tags": []
   },
   "outputs": [
    {
     "data": {
      "text/html": [
       "<div>\n",
       "<style scoped>\n",
       "    .dataframe tbody tr th:only-of-type {\n",
       "        vertical-align: middle;\n",
       "    }\n",
       "\n",
       "    .dataframe tbody tr th {\n",
       "        vertical-align: top;\n",
       "    }\n",
       "\n",
       "    .dataframe thead th {\n",
       "        text-align: right;\n",
       "    }\n",
       "</style>\n",
       "<table border=\"1\" class=\"dataframe\">\n",
       "  <thead>\n",
       "    <tr style=\"text-align: right;\">\n",
       "      <th></th>\n",
       "      <th>YearsExperience</th>\n",
       "      <th>Salary</th>\n",
       "    </tr>\n",
       "  </thead>\n",
       "  <tbody>\n",
       "    <tr>\n",
       "      <th>YearsExperience</th>\n",
       "      <td>1.000000</td>\n",
       "      <td>0.982427</td>\n",
       "    </tr>\n",
       "    <tr>\n",
       "      <th>Salary</th>\n",
       "      <td>0.982427</td>\n",
       "      <td>1.000000</td>\n",
       "    </tr>\n",
       "  </tbody>\n",
       "</table>\n",
       "</div>"
      ],
      "text/plain": [
       "                 YearsExperience    Salary\n",
       "YearsExperience         1.000000  0.982427\n",
       "Salary                  0.982427  1.000000"
      ]
     },
     "execution_count": 10,
     "metadata": {},
     "output_type": "execute_result"
    }
   ],
   "source": [
    "df.corr()"
   ]
  },
  {
   "cell_type": "markdown",
   "id": "ffbaa6d7-e806-4c57-972a-b64354a19a52",
   "metadata": {},
   "source": [
    "## Splitting Data"
   ]
  },
  {
   "cell_type": "code",
   "execution_count": 11,
   "id": "35b1f25f-72dc-4343-aa7e-e2deeb0a1fa0",
   "metadata": {
    "tags": []
   },
   "outputs": [],
   "source": [
    "X = df[['YearsExperience']]\n",
    "y = df[['Salary']]"
   ]
  },
  {
   "cell_type": "code",
   "execution_count": 12,
   "id": "229173d8-555f-4843-88af-41a8a785044c",
   "metadata": {
    "tags": []
   },
   "outputs": [
    {
     "data": {
      "text/plain": [
       "(35, 1)"
      ]
     },
     "execution_count": 12,
     "metadata": {},
     "output_type": "execute_result"
    }
   ],
   "source": [
    "X.shape"
   ]
  },
  {
   "cell_type": "code",
   "execution_count": 13,
   "id": "9fca823b-62eb-4973-a210-5a3ef072f26b",
   "metadata": {
    "tags": []
   },
   "outputs": [
    {
     "data": {
      "text/plain": [
       "(35, 1)"
      ]
     },
     "execution_count": 13,
     "metadata": {},
     "output_type": "execute_result"
    }
   ],
   "source": [
    "y.shape"
   ]
  },
  {
   "cell_type": "code",
   "execution_count": 14,
   "id": "a8a80a02-0cf0-4e42-80ae-ff4e9e8a6f5b",
   "metadata": {
    "tags": []
   },
   "outputs": [],
   "source": [
    "X = np.array(X).astype('float32')\n",
    "y=  np.array(y).astype('float32')"
   ]
  },
  {
   "cell_type": "code",
   "execution_count": 15,
   "id": "191d4f59-ecdc-4e4f-901d-e460dd415458",
   "metadata": {
    "tags": []
   },
   "outputs": [],
   "source": [
    "from sklearn.model_selection import train_test_split\n",
    "X_train, X_test, y_train, y_test = train_test_split(X,y,test_size=0.25,random_state=100)"
   ]
  },
  {
   "cell_type": "code",
   "execution_count": 16,
   "id": "33ccf275-06ff-4070-9907-1a65cd7ffc5b",
   "metadata": {
    "tags": []
   },
   "outputs": [
    {
     "data": {
      "text/plain": [
       "(26, 1)"
      ]
     },
     "execution_count": 16,
     "metadata": {},
     "output_type": "execute_result"
    }
   ],
   "source": [
    "X_train.shape"
   ]
  },
  {
   "cell_type": "code",
   "execution_count": 17,
   "id": "606f2644-ec2f-4c07-b0b3-2c48f5b1da05",
   "metadata": {
    "tags": []
   },
   "outputs": [
    {
     "data": {
      "text/plain": [
       "(9, 1)"
      ]
     },
     "execution_count": 17,
     "metadata": {},
     "output_type": "execute_result"
    }
   ],
   "source": [
    "X_test.shape"
   ]
  },
  {
   "cell_type": "markdown",
   "id": "c183ca74-fb0e-4227-ac53-4497c93dfd4e",
   "metadata": {},
   "source": [
    "## Model Selection"
   ]
  },
  {
   "cell_type": "code",
   "execution_count": 18,
   "id": "ed4489bd-89f5-4ba6-a150-4bae5921a5b1",
   "metadata": {
    "tags": []
   },
   "outputs": [],
   "source": [
    "from sklearn.linear_model import LinearRegression\n",
    "from sklearn.metrics import mean_squared_error, accuracy_score"
   ]
  },
  {
   "cell_type": "code",
   "execution_count": 19,
   "id": "98f08885-770b-4580-b126-6b080d1c4621",
   "metadata": {
    "tags": []
   },
   "outputs": [
    {
     "data": {
      "text/html": [
       "<style>#sk-container-id-1 {color: black;background-color: white;}#sk-container-id-1 pre{padding: 0;}#sk-container-id-1 div.sk-toggleable {background-color: white;}#sk-container-id-1 label.sk-toggleable__label {cursor: pointer;display: block;width: 100%;margin-bottom: 0;padding: 0.3em;box-sizing: border-box;text-align: center;}#sk-container-id-1 label.sk-toggleable__label-arrow:before {content: \"▸\";float: left;margin-right: 0.25em;color: #696969;}#sk-container-id-1 label.sk-toggleable__label-arrow:hover:before {color: black;}#sk-container-id-1 div.sk-estimator:hover label.sk-toggleable__label-arrow:before {color: black;}#sk-container-id-1 div.sk-toggleable__content {max-height: 0;max-width: 0;overflow: hidden;text-align: left;background-color: #f0f8ff;}#sk-container-id-1 div.sk-toggleable__content pre {margin: 0.2em;color: black;border-radius: 0.25em;background-color: #f0f8ff;}#sk-container-id-1 input.sk-toggleable__control:checked~div.sk-toggleable__content {max-height: 200px;max-width: 100%;overflow: auto;}#sk-container-id-1 input.sk-toggleable__control:checked~label.sk-toggleable__label-arrow:before {content: \"▾\";}#sk-container-id-1 div.sk-estimator input.sk-toggleable__control:checked~label.sk-toggleable__label {background-color: #d4ebff;}#sk-container-id-1 div.sk-label input.sk-toggleable__control:checked~label.sk-toggleable__label {background-color: #d4ebff;}#sk-container-id-1 input.sk-hidden--visually {border: 0;clip: rect(1px 1px 1px 1px);clip: rect(1px, 1px, 1px, 1px);height: 1px;margin: -1px;overflow: hidden;padding: 0;position: absolute;width: 1px;}#sk-container-id-1 div.sk-estimator {font-family: monospace;background-color: #f0f8ff;border: 1px dotted black;border-radius: 0.25em;box-sizing: border-box;margin-bottom: 0.5em;}#sk-container-id-1 div.sk-estimator:hover {background-color: #d4ebff;}#sk-container-id-1 div.sk-parallel-item::after {content: \"\";width: 100%;border-bottom: 1px solid gray;flex-grow: 1;}#sk-container-id-1 div.sk-label:hover label.sk-toggleable__label {background-color: #d4ebff;}#sk-container-id-1 div.sk-serial::before {content: \"\";position: absolute;border-left: 1px solid gray;box-sizing: border-box;top: 0;bottom: 0;left: 50%;z-index: 0;}#sk-container-id-1 div.sk-serial {display: flex;flex-direction: column;align-items: center;background-color: white;padding-right: 0.2em;padding-left: 0.2em;position: relative;}#sk-container-id-1 div.sk-item {position: relative;z-index: 1;}#sk-container-id-1 div.sk-parallel {display: flex;align-items: stretch;justify-content: center;background-color: white;position: relative;}#sk-container-id-1 div.sk-item::before, #sk-container-id-1 div.sk-parallel-item::before {content: \"\";position: absolute;border-left: 1px solid gray;box-sizing: border-box;top: 0;bottom: 0;left: 50%;z-index: -1;}#sk-container-id-1 div.sk-parallel-item {display: flex;flex-direction: column;z-index: 1;position: relative;background-color: white;}#sk-container-id-1 div.sk-parallel-item:first-child::after {align-self: flex-end;width: 50%;}#sk-container-id-1 div.sk-parallel-item:last-child::after {align-self: flex-start;width: 50%;}#sk-container-id-1 div.sk-parallel-item:only-child::after {width: 0;}#sk-container-id-1 div.sk-dashed-wrapped {border: 1px dashed gray;margin: 0 0.4em 0.5em 0.4em;box-sizing: border-box;padding-bottom: 0.4em;background-color: white;}#sk-container-id-1 div.sk-label label {font-family: monospace;font-weight: bold;display: inline-block;line-height: 1.2em;}#sk-container-id-1 div.sk-label-container {text-align: center;}#sk-container-id-1 div.sk-container {/* jupyter's `normalize.less` sets `[hidden] { display: none; }` but bootstrap.min.css set `[hidden] { display: none !important; }` so we also need the `!important` here to be able to override the default hidden behavior on the sphinx rendered scikit-learn.org. See: https://github.com/scikit-learn/scikit-learn/issues/21755 */display: inline-block !important;position: relative;}#sk-container-id-1 div.sk-text-repr-fallback {display: none;}</style><div id=\"sk-container-id-1\" class=\"sk-top-container\"><div class=\"sk-text-repr-fallback\"><pre>LinearRegression()</pre><b>In a Jupyter environment, please rerun this cell to show the HTML representation or trust the notebook. <br />On GitHub, the HTML representation is unable to render, please try loading this page with nbviewer.org.</b></div><div class=\"sk-container\" hidden><div class=\"sk-item\"><div class=\"sk-estimator sk-toggleable\"><input class=\"sk-toggleable__control sk-hidden--visually\" id=\"sk-estimator-id-1\" type=\"checkbox\" checked><label for=\"sk-estimator-id-1\" class=\"sk-toggleable__label sk-toggleable__label-arrow\">LinearRegression</label><div class=\"sk-toggleable__content\"><pre>LinearRegression()</pre></div></div></div></div></div>"
      ],
      "text/plain": [
       "LinearRegression()"
      ]
     },
     "execution_count": 19,
     "metadata": {},
     "output_type": "execute_result"
    }
   ],
   "source": [
    "lm = LinearRegression()\n",
    "lm.fit(X_train,y_train)"
   ]
  },
  {
   "cell_type": "code",
   "execution_count": 20,
   "id": "ee75ff4f-a04e-49e2-94b2-90f42976ff76",
   "metadata": {
    "tags": []
   },
   "outputs": [
    {
     "data": {
      "text/plain": [
       "0.9403971567220182"
      ]
     },
     "execution_count": 20,
     "metadata": {},
     "output_type": "execute_result"
    }
   ],
   "source": [
    "lm.accuracy = lm.score(X_test,y_test)\n",
    "lm.accuracy"
   ]
  },
  {
   "cell_type": "code",
   "execution_count": 21,
   "id": "f655ec3a-0197-4c1d-8717-ae0500584dbd",
   "metadata": {
    "tags": []
   },
   "outputs": [
    {
     "data": {
      "text/plain": [
       "array([[9468.396]], dtype=float32)"
      ]
     },
     "execution_count": 21,
     "metadata": {},
     "output_type": "execute_result"
    }
   ],
   "source": [
    "lm.coef_"
   ]
  },
  {
   "cell_type": "code",
   "execution_count": 22,
   "id": "2461c348-9332-4348-af32-438c723bb27b",
   "metadata": {
    "tags": []
   },
   "outputs": [
    {
     "data": {
      "text/plain": [
       "array([25317.984], dtype=float32)"
      ]
     },
     "execution_count": 22,
     "metadata": {},
     "output_type": "execute_result"
    }
   ],
   "source": [
    "lm.intercept_"
   ]
  },
  {
   "cell_type": "code",
   "execution_count": 23,
   "id": "6a87f74c-9a1a-498c-9597-f68ac140f27e",
   "metadata": {
    "tags": []
   },
   "outputs": [],
   "source": [
    "y_predict = lm.predict(X_test)"
   ]
  },
  {
   "cell_type": "code",
   "execution_count": 24,
   "id": "4514bff4-b422-437a-a3d6-11d0e603fc60",
   "metadata": {
    "tags": []
   },
   "outputs": [
    {
     "data": {
      "text/plain": [
       "array([[147460.3  ],\n",
       "       [153141.34 ],\n",
       "       [134204.55 ],\n",
       "       [ 52776.336],\n",
       "       [ 37626.9  ],\n",
       "       [ 64138.41 ],\n",
       "       [ 81181.52 ],\n",
       "       [141779.27 ],\n",
       "       [115267.75 ]], dtype=float32)"
      ]
     },
     "execution_count": 24,
     "metadata": {},
     "output_type": "execute_result"
    }
   ],
   "source": [
    "y_predict"
   ]
  },
  {
   "cell_type": "code",
   "execution_count": 25,
   "id": "20b65f6f-88f9-45d6-ae4e-3fab4d636301",
   "metadata": {
    "tags": []
   },
   "outputs": [
    {
     "data": {
      "text/plain": [
       "8768.941"
      ]
     },
     "execution_count": 25,
     "metadata": {},
     "output_type": "execute_result"
    }
   ],
   "source": [
    "from sklearn import metrics\n",
    "np.sqrt(metrics.mean_squared_error(y_test,y_predict))"
   ]
  },
  {
   "cell_type": "markdown",
   "id": "7f997c63-fde5-4b7e-b10e-def6030795ad",
   "metadata": {},
   "source": [
    "## Sagemaker "
   ]
  },
  {
   "cell_type": "markdown",
   "id": "e439addd-e7a5-4029-a366-71c9c4f837a3",
   "metadata": {},
   "source": [
    "### Parameters"
   ]
  },
  {
   "cell_type": "code",
   "execution_count": 26,
   "id": "d2c8f20b-2ef0-413a-bc8b-f88a1b79874f",
   "metadata": {
    "tags": []
   },
   "outputs": [],
   "source": [
    "import sagemaker\n",
    "import boto3\n",
    "from sagemaker import Session"
   ]
  },
  {
   "cell_type": "code",
   "execution_count": 27,
   "id": "3b6e957b-32fe-4536-8a0c-89009d60f71d",
   "metadata": {
    "tags": []
   },
   "outputs": [],
   "source": [
    "sagemaker_session = sagemaker.Session()"
   ]
  },
  {
   "cell_type": "code",
   "execution_count": 28,
   "id": "1db58cfc-5faf-4ccf-9392-3e1d0f3a47fc",
   "metadata": {
    "tags": []
   },
   "outputs": [],
   "source": [
    "bucket = \"sagemaker-project1-salaryregression\"\n",
    "prefix = 'linear_learner'\n",
    "role = sagemaker.get_execution_role()"
   ]
  },
  {
   "cell_type": "code",
   "execution_count": 29,
   "id": "dbe22ce9-6045-410b-85e8-846b14dec9bf",
   "metadata": {
    "tags": []
   },
   "outputs": [
    {
     "data": {
      "text/plain": [
       "'arn:aws:iam::209508272172:role/LabRole'"
      ]
     },
     "execution_count": 29,
     "metadata": {},
     "output_type": "execute_result"
    }
   ],
   "source": [
    "role"
   ]
  },
  {
   "cell_type": "markdown",
   "id": "085f61fa-4304-4c1c-8c4a-18e254d0a715",
   "metadata": {},
   "source": [
    "### Uploading train data to bucket"
   ]
  },
  {
   "cell_type": "code",
   "execution_count": 30,
   "id": "5eb0e8e2-c6de-4698-bee7-ffbc2c60c60b",
   "metadata": {
    "tags": []
   },
   "outputs": [
    {
     "data": {
      "text/plain": [
       "(26, 1)"
      ]
     },
     "execution_count": 30,
     "metadata": {},
     "output_type": "execute_result"
    }
   ],
   "source": [
    "X_train.shape"
   ]
  },
  {
   "cell_type": "code",
   "execution_count": 31,
   "id": "d8b07a5c-7ede-4015-98cd-1a13d3cf7a33",
   "metadata": {
    "tags": []
   },
   "outputs": [
    {
     "data": {
      "text/plain": [
       "(26, 1)"
      ]
     },
     "execution_count": 31,
     "metadata": {},
     "output_type": "execute_result"
    }
   ],
   "source": [
    "y_train.shape"
   ]
  },
  {
   "cell_type": "code",
   "execution_count": 32,
   "id": "954b8d04-4d70-4572-8b6e-8ee2f942691e",
   "metadata": {
    "tags": []
   },
   "outputs": [
    {
     "data": {
      "text/plain": [
       "array([[ 60150.],\n",
       "       [ 57189.],\n",
       "       [ 93940.],\n",
       "       [ 39343.],\n",
       "       [112635.],\n",
       "       [ 56957.],\n",
       "       [ 55794.],\n",
       "       [ 39891.],\n",
       "       [121872.],\n",
       "       [122391.],\n",
       "       [ 83088.],\n",
       "       [101302.],\n",
       "       [ 61111.],\n",
       "       [127345.],\n",
       "       [105582.],\n",
       "       [ 98273.],\n",
       "       [ 37731.],\n",
       "       [ 91738.],\n",
       "       [ 63218.],\n",
       "       [ 66029.],\n",
       "       [ 67938.],\n",
       "       [113812.],\n",
       "       [ 54445.],\n",
       "       [ 43525.],\n",
       "       [109431.],\n",
       "       [ 64445.]], dtype=float32)"
      ]
     },
     "execution_count": 32,
     "metadata": {},
     "output_type": "execute_result"
    }
   ],
   "source": [
    "y_train"
   ]
  },
  {
   "cell_type": "code",
   "execution_count": 33,
   "id": "0b950247-947e-411d-850d-99e7734c1c8c",
   "metadata": {
    "tags": []
   },
   "outputs": [],
   "source": [
    "# Converting y_train in a single vector output\n",
    "y_train = y_train[:,0]"
   ]
  },
  {
   "cell_type": "code",
   "execution_count": 34,
   "id": "7bc60d54-26f3-4218-9a3a-7d18807490a2",
   "metadata": {
    "tags": []
   },
   "outputs": [
    {
     "data": {
      "text/plain": [
       "array([ 60150.,  57189.,  93940.,  39343., 112635.,  56957.,  55794.,\n",
       "        39891., 121872., 122391.,  83088., 101302.,  61111., 127345.,\n",
       "       105582.,  98273.,  37731.,  91738.,  63218.,  66029.,  67938.,\n",
       "       113812.,  54445.,  43525., 109431.,  64445.], dtype=float32)"
      ]
     },
     "execution_count": 34,
     "metadata": {},
     "output_type": "execute_result"
    }
   ],
   "source": [
    "y_train"
   ]
  },
  {
   "cell_type": "code",
   "execution_count": null,
   "id": "915325da-ab84-4e50-8b96-226524d6e526",
   "metadata": {},
   "outputs": [],
   "source": []
  },
  {
   "cell_type": "code",
   "execution_count": 35,
   "id": "1368ae1d-63fc-4626-bcb2-9624651e8009",
   "metadata": {
    "tags": []
   },
   "outputs": [
    {
     "data": {
      "text/plain": [
       "0"
      ]
     },
     "execution_count": 35,
     "metadata": {},
     "output_type": "execute_result"
    }
   ],
   "source": [
    "import io\n",
    "import sagemaker.amazon.common as smac\n",
    "\n",
    "buf = io.BytesIO()\n",
    "smac.write_numpy_to_dense_tensor(buf,X_train,y_train)\n",
    "buf.seek(0)"
   ]
  },
  {
   "cell_type": "markdown",
   "id": "edcbaeda-ee80-42bf-8e10-0063da3f92dd",
   "metadata": {
    "tags": []
   },
   "source": [
    "#### Uploading data to bucket"
   ]
  },
  {
   "cell_type": "code",
   "execution_count": 36,
   "id": "1538fa93-3dfc-4839-a158-111ecb7acf4f",
   "metadata": {
    "tags": []
   },
   "outputs": [],
   "source": [
    "import os\n",
    "key = 'linear-train-data'\n",
    "boto3.resource('s3').Bucket(bucket).Object(os.path.join(prefix,'train',key)).upload_fileobj(buf)"
   ]
  },
  {
   "cell_type": "code",
   "execution_count": 37,
   "id": "ff2a4534-981b-4d03-b855-58e17f8412ca",
   "metadata": {
    "tags": []
   },
   "outputs": [
    {
     "data": {
      "text/plain": [
       "'s3://sagemaker-project1-salaryregression/linear_learner/train/linear-train-data'"
      ]
     },
     "execution_count": 37,
     "metadata": {},
     "output_type": "execute_result"
    }
   ],
   "source": [
    "s3_train_data = 's3://{}/{}/train/{}'.format(bucket,prefix,key)\n",
    "s3_train_data"
   ]
  },
  {
   "cell_type": "code",
   "execution_count": null,
   "id": "7ca3a470-e3b2-4893-a8a2-8757d60716d7",
   "metadata": {},
   "outputs": [],
   "source": []
  },
  {
   "cell_type": "markdown",
   "id": "f298a7f3-406b-4482-ab97-76303dd4dd37",
   "metadata": {},
   "source": [
    "### Uploading test data to bucket"
   ]
  },
  {
   "cell_type": "code",
   "execution_count": 38,
   "id": "5f755e0a-4326-4bee-831d-7c9495830ebd",
   "metadata": {
    "tags": []
   },
   "outputs": [
    {
     "data": {
      "text/plain": [
       "(9, 1)"
      ]
     },
     "execution_count": 38,
     "metadata": {},
     "output_type": "execute_result"
    }
   ],
   "source": [
    "X_test.shape"
   ]
  },
  {
   "cell_type": "code",
   "execution_count": 39,
   "id": "3dfb05ad-deda-4557-af02-0bf026c9a306",
   "metadata": {
    "tags": []
   },
   "outputs": [
    {
     "data": {
      "text/plain": [
       "(9, 1)"
      ]
     },
     "execution_count": 39,
     "metadata": {},
     "output_type": "execute_result"
    }
   ],
   "source": [
    "y_test.shape"
   ]
  },
  {
   "cell_type": "code",
   "execution_count": 40,
   "id": "5770c01d-7fd3-49a4-82cb-07fe5a21fd68",
   "metadata": {
    "tags": []
   },
   "outputs": [
    {
     "data": {
      "text/plain": [
       "array([[135675.],\n",
       "       [139465.],\n",
       "       [126756.],\n",
       "       [ 56642.],\n",
       "       [ 46205.],\n",
       "       [ 57081.],\n",
       "       [ 81363.],\n",
       "       [128765.],\n",
       "       [116969.]], dtype=float32)"
      ]
     },
     "execution_count": 40,
     "metadata": {},
     "output_type": "execute_result"
    }
   ],
   "source": [
    "y_test"
   ]
  },
  {
   "cell_type": "code",
   "execution_count": 41,
   "id": "81d195cb-8a68-410e-bcf5-6048f16daa99",
   "metadata": {
    "tags": []
   },
   "outputs": [],
   "source": [
    "# Converting y_test in a single vector output\n",
    "y_test = y_test[:,0]"
   ]
  },
  {
   "cell_type": "code",
   "execution_count": 42,
   "id": "1d806723-eb21-4654-b453-90a8fa500788",
   "metadata": {
    "tags": []
   },
   "outputs": [
    {
     "data": {
      "text/plain": [
       "array([135675., 139465., 126756.,  56642.,  46205.,  57081.,  81363.,\n",
       "       128765., 116969.], dtype=float32)"
      ]
     },
     "execution_count": 42,
     "metadata": {},
     "output_type": "execute_result"
    }
   ],
   "source": [
    "y_test"
   ]
  },
  {
   "cell_type": "code",
   "execution_count": null,
   "id": "8306fc0a-0821-40e8-b0fb-3fd28286211b",
   "metadata": {},
   "outputs": [],
   "source": []
  },
  {
   "cell_type": "code",
   "execution_count": 43,
   "id": "faf88523-6731-4493-961e-2e59e5d62dfd",
   "metadata": {
    "tags": []
   },
   "outputs": [
    {
     "data": {
      "text/plain": [
       "0"
      ]
     },
     "execution_count": 43,
     "metadata": {},
     "output_type": "execute_result"
    }
   ],
   "source": [
    "buf = io.BytesIO()\n",
    "smac.write_numpy_to_dense_tensor(buf,X_test,y_test)\n",
    "buf.seek(0)"
   ]
  },
  {
   "cell_type": "markdown",
   "id": "e852703d-f905-4db9-8bdd-781f41d5f997",
   "metadata": {},
   "source": [
    "#### Uploading data to bucket"
   ]
  },
  {
   "cell_type": "code",
   "execution_count": 44,
   "id": "e5b54aa9-1421-4e6b-8e7a-53d66413ae70",
   "metadata": {
    "tags": []
   },
   "outputs": [],
   "source": [
    "key = 'linear-test-data'\n",
    "boto3.resource('s3').Bucket(bucket).Object(os.path.join(prefix,'test',key)).upload_fileobj(buf)"
   ]
  },
  {
   "cell_type": "code",
   "execution_count": 45,
   "id": "19a4f6f7-1ff5-4848-9b34-2309766ff1ec",
   "metadata": {
    "tags": []
   },
   "outputs": [
    {
     "data": {
      "text/plain": [
       "'s3://sagemaker-project1-salaryregression/linear_learner/test/linear-test-data'"
      ]
     },
     "execution_count": 45,
     "metadata": {},
     "output_type": "execute_result"
    }
   ],
   "source": [
    "s3_test_data = 's3://{}/{}/test/{}'.format(bucket,prefix,key)\n",
    "s3_test_data"
   ]
  },
  {
   "cell_type": "code",
   "execution_count": null,
   "id": "e080b7e5-c521-4a02-9248-23d83214b168",
   "metadata": {},
   "outputs": [],
   "source": []
  },
  {
   "cell_type": "markdown",
   "id": "45b1ff9b-b041-4b08-83ed-9e89ce44071b",
   "metadata": {},
   "source": [
    "### Specify Output Location"
   ]
  },
  {
   "cell_type": "code",
   "execution_count": 46,
   "id": "19925415-b7d3-4f9e-bfe7-00e22e11c23e",
   "metadata": {
    "tags": []
   },
   "outputs": [],
   "source": [
    "output_location = 's3://{}//{}//output'.format(bucket,prefix)"
   ]
  },
  {
   "cell_type": "code",
   "execution_count": 47,
   "id": "c9cd3111-0fee-4150-ab61-560476159cb2",
   "metadata": {},
   "outputs": [
    {
     "name": "stdout",
     "output_type": "stream",
     "text": [
      "s3://sagemaker-project1-salaryregression//linear_learner//output\n"
     ]
    }
   ],
   "source": [
    "print(output_location)"
   ]
  },
  {
   "cell_type": "markdown",
   "id": "1787f44d-d380-4209-bc69-22bec3ca5193",
   "metadata": {},
   "source": [
    "### Getting image of linear-learner"
   ]
  },
  {
   "cell_type": "code",
   "execution_count": 48,
   "id": "e130f2e4-208c-4a44-aeac-bc4a91dd82d3",
   "metadata": {
    "tags": []
   },
   "outputs": [
    {
     "name": "stderr",
     "output_type": "stream",
     "text": [
      "The method get_image_uri has been renamed in sagemaker>=2.\n",
      "See: https://sagemaker.readthedocs.io/en/stable/v2.html for details.\n"
     ]
    }
   ],
   "source": [
    "from sagemaker.amazon.amazon_estimator import get_image_uri\n",
    "container = get_image_uri(boto3.Session().region_name, 'linear-learner')"
   ]
  },
  {
   "cell_type": "markdown",
   "id": "b238508f-0aba-4887-9483-d7c318f89c8c",
   "metadata": {
    "tags": []
   },
   "source": [
    "### Defining estimators and hyperparameters for linear-learner and fitting the data"
   ]
  },
  {
   "cell_type": "code",
   "execution_count": 50,
   "id": "5c9e54a0-e757-4aad-b70d-104879304803",
   "metadata": {
    "collapsed": true,
    "jupyter": {
     "outputs_hidden": true
    },
    "tags": []
   },
   "outputs": [
    {
     "name": "stderr",
     "output_type": "stream",
     "text": [
      "train_instance_count has been renamed in sagemaker>=2.\n",
      "See: https://sagemaker.readthedocs.io/en/stable/v2.html for details.\n",
      "train_instance_type has been renamed in sagemaker>=2.\n",
      "See: https://sagemaker.readthedocs.io/en/stable/v2.html for details.\n",
      "INFO:sagemaker:Creating training-job with name: linear-learner-2023-04-21-13-39-55-259\n"
     ]
    },
    {
     "name": "stdout",
     "output_type": "stream",
     "text": [
      "2023-04-21 13:39:56 Starting - Starting the training job...\n",
      "2023-04-21 13:40:21 Starting - Preparing the instances for training...\n",
      "2023-04-21 13:41:06 Downloading - Downloading input data...\n",
      "2023-04-21 13:41:30 Training - Downloading the training image.........\n",
      "2023-04-21 13:42:51 Training - Training image download completed. Training in progress.\u001b[34mDocker entrypoint called with argument(s): train\u001b[0m\n",
      "\u001b[34mRunning default environment configuration script\u001b[0m\n",
      "\u001b[34m[04/21/2023 13:42:58 INFO 139973930325824] Reading default configuration from /opt/amazon/lib/python3.7/site-packages/algorithm/resources/default-input.json: {'mini_batch_size': '1000', 'epochs': '15', 'feature_dim': 'auto', 'use_bias': 'true', 'binary_classifier_model_selection_criteria': 'accuracy', 'f_beta': '1.0', 'target_recall': '0.8', 'target_precision': '0.8', 'num_models': 'auto', 'num_calibration_samples': '10000000', 'init_method': 'uniform', 'init_scale': '0.07', 'init_sigma': '0.01', 'init_bias': '0.0', 'optimizer': 'auto', 'loss': 'auto', 'margin': '1.0', 'quantile': '0.5', 'loss_insensitivity': '0.01', 'huber_delta': '1.0', 'num_classes': '1', 'accuracy_top_k': '3', 'wd': 'auto', 'l1': 'auto', 'momentum': 'auto', 'learning_rate': 'auto', 'beta_1': 'auto', 'beta_2': 'auto', 'bias_lr_mult': 'auto', 'bias_wd_mult': 'auto', 'use_lr_scheduler': 'true', 'lr_scheduler_step': 'auto', 'lr_scheduler_factor': 'auto', 'lr_scheduler_minimum_lr': 'auto', 'positive_example_weight_mult': '1.0', 'balance_multiclass_weights': 'false', 'normalize_data': 'true', 'normalize_label': 'auto', 'unbias_data': 'auto', 'unbias_label': 'auto', 'num_point_for_scaler': '10000', '_kvstore': 'auto', '_num_gpus': 'auto', '_num_kv_servers': 'auto', '_log_level': 'info', '_tuning_objective_metric': '', 'early_stopping_patience': '3', 'early_stopping_tolerance': '0.001', '_enable_profiler': 'false'}\u001b[0m\n",
      "\u001b[34m[04/21/2023 13:42:58 INFO 139973930325824] Merging with provided configuration from /opt/ml/input/config/hyperparameters.json: {'epochs': '5', 'feature_dim': '1', 'loss': 'absolute_loss', 'mini_batch_size': '5', 'num_models': '32', 'predictor_type': 'regressor'}\u001b[0m\n",
      "\u001b[34m[04/21/2023 13:42:58 INFO 139973930325824] Final configuration: {'mini_batch_size': '5', 'epochs': '5', 'feature_dim': '1', 'use_bias': 'true', 'binary_classifier_model_selection_criteria': 'accuracy', 'f_beta': '1.0', 'target_recall': '0.8', 'target_precision': '0.8', 'num_models': '32', 'num_calibration_samples': '10000000', 'init_method': 'uniform', 'init_scale': '0.07', 'init_sigma': '0.01', 'init_bias': '0.0', 'optimizer': 'auto', 'loss': 'absolute_loss', 'margin': '1.0', 'quantile': '0.5', 'loss_insensitivity': '0.01', 'huber_delta': '1.0', 'num_classes': '1', 'accuracy_top_k': '3', 'wd': 'auto', 'l1': 'auto', 'momentum': 'auto', 'learning_rate': 'auto', 'beta_1': 'auto', 'beta_2': 'auto', 'bias_lr_mult': 'auto', 'bias_wd_mult': 'auto', 'use_lr_scheduler': 'true', 'lr_scheduler_step': 'auto', 'lr_scheduler_factor': 'auto', 'lr_scheduler_minimum_lr': 'auto', 'positive_example_weight_mult': '1.0', 'balance_multiclass_weights': 'false', 'normalize_data': 'true', 'normalize_label': 'auto', 'unbias_data': 'auto', 'unbias_label': 'auto', 'num_point_for_scaler': '10000', '_kvstore': 'auto', '_num_gpus': 'auto', '_num_kv_servers': 'auto', '_log_level': 'info', '_tuning_objective_metric': '', 'early_stopping_patience': '3', 'early_stopping_tolerance': '0.001', '_enable_profiler': 'false', 'predictor_type': 'regressor'}\u001b[0m\n",
      "\u001b[34m[04/21/2023 13:43:01 WARNING 139973930325824] Loggers have already been setup.\u001b[0m\n",
      "\u001b[34m[04/21/2023 13:43:01 INFO 139973930325824] Final configuration: {'mini_batch_size': '5', 'epochs': '5', 'feature_dim': '1', 'use_bias': 'true', 'binary_classifier_model_selection_criteria': 'accuracy', 'f_beta': '1.0', 'target_recall': '0.8', 'target_precision': '0.8', 'num_models': '32', 'num_calibration_samples': '10000000', 'init_method': 'uniform', 'init_scale': '0.07', 'init_sigma': '0.01', 'init_bias': '0.0', 'optimizer': 'auto', 'loss': 'absolute_loss', 'margin': '1.0', 'quantile': '0.5', 'loss_insensitivity': '0.01', 'huber_delta': '1.0', 'num_classes': '1', 'accuracy_top_k': '3', 'wd': 'auto', 'l1': 'auto', 'momentum': 'auto', 'learning_rate': 'auto', 'beta_1': 'auto', 'beta_2': 'auto', 'bias_lr_mult': 'auto', 'bias_wd_mult': 'auto', 'use_lr_scheduler': 'true', 'lr_scheduler_step': 'auto', 'lr_scheduler_factor': 'auto', 'lr_scheduler_minimum_lr': 'auto', 'positive_example_weight_mult': '1.0', 'balance_multiclass_weights': 'false', 'normalize_data': 'true', 'normalize_label': 'auto', 'unbias_data': 'auto', 'unbias_label': 'auto', 'num_point_for_scaler': '10000', '_kvstore': 'auto', '_num_gpus': 'auto', '_num_kv_servers': 'auto', '_log_level': 'info', '_tuning_objective_metric': '', 'early_stopping_patience': '3', 'early_stopping_tolerance': '0.001', '_enable_profiler': 'false', 'predictor_type': 'regressor'}\u001b[0m\n",
      "\u001b[34m[04/21/2023 13:43:01 WARNING 139973930325824] Loggers have already been setup.\u001b[0m\n",
      "\u001b[34mProcess 7 is a worker.\u001b[0m\n",
      "\u001b[34m[04/21/2023 13:43:01 INFO 139973930325824] Using default worker.\u001b[0m\n",
      "\u001b[34m[04/21/2023 13:43:01 INFO 139973930325824] Checkpoint loading and saving are disabled.\u001b[0m\n",
      "\u001b[34m[2023-04-21 13:43:01.653] [tensorio] [info] epoch_stats={\"data_pipeline\": \"/opt/ml/input/data/train\", \"epoch\": 0, \"duration\": 14, \"num_examples\": 1, \"num_bytes\": 240}\u001b[0m\n",
      "\u001b[34m[04/21/2023 13:43:01 INFO 139973930325824] Create Store: local\u001b[0m\n",
      "\u001b[34m[2023-04-21 13:43:01.698] [tensorio] [info] epoch_stats={\"data_pipeline\": \"/opt/ml/input/data/train\", \"epoch\": 1, \"duration\": 44, \"num_examples\": 6, \"num_bytes\": 1248}\u001b[0m\n",
      "\u001b[34m[04/21/2023 13:43:01 INFO 139973930325824] Scaler algorithm parameters\n",
      " <algorithm.scaler.ScalerAlgorithmStable object at 0x7f4da7839f10>\u001b[0m\n",
      "\u001b[34m[04/21/2023 13:43:01 INFO 139973930325824] Scaling model computed with parameters:\n",
      " {'stdev_label': \u001b[0m\n",
      "\u001b[34m[28763.158]\u001b[0m\n",
      "\u001b[34m<NDArray 1 @cpu(0)>, 'stdev_weight': \u001b[0m\n",
      "\u001b[34m[2.9512193]\u001b[0m\n",
      "\u001b[34m<NDArray 1 @cpu(0)>, 'mean_label': \u001b[0m\n",
      "\u001b[34m[79389.2]\u001b[0m\n",
      "\u001b[34m<NDArray 1 @cpu(0)>, 'mean_weight': \u001b[0m\n",
      "\u001b[34m[5.748]\u001b[0m\n",
      "\u001b[34m<NDArray 1 @cpu(0)>}\u001b[0m\n",
      "\u001b[34m[04/21/2023 13:43:01 INFO 139973930325824] nvidia-smi: took 0.033 seconds to run.\u001b[0m\n",
      "\u001b[34m[04/21/2023 13:43:01 INFO 139973930325824] nvidia-smi identified 0 GPUs.\u001b[0m\n",
      "\u001b[34m[04/21/2023 13:43:01 INFO 139973930325824] Number of GPUs being used: 0\u001b[0m\n",
      "\u001b[34m#metrics {\"StartTime\": 1682084581.8117247, \"EndTime\": 1682084581.8117614, \"Dimensions\": {\"Algorithm\": \"Linear Learner\", \"Host\": \"algo-1\", \"Operation\": \"training\", \"Meta\": \"init_train_data_iter\"}, \"Metrics\": {\"Total Records Seen\": {\"sum\": 31.0, \"count\": 1, \"min\": 31, \"max\": 31}, \"Total Batches Seen\": {\"sum\": 7.0, \"count\": 1, \"min\": 7, \"max\": 7}, \"Max Records Seen Between Resets\": {\"sum\": 26.0, \"count\": 1, \"min\": 26, \"max\": 26}, \"Max Batches Seen Between Resets\": {\"sum\": 6.0, \"count\": 1, \"min\": 6, \"max\": 6}, \"Reset Count\": {\"sum\": 2.0, \"count\": 1, \"min\": 2, \"max\": 2}, \"Number of Records Since Last Reset\": {\"sum\": 0.0, \"count\": 1, \"min\": 0, \"max\": 0}, \"Number of Batches Since Last Reset\": {\"sum\": 0.0, \"count\": 1, \"min\": 0, \"max\": 0}}}\u001b[0m\n",
      "\u001b[34m[2023-04-21 13:43:01.960] [tensorio] [info] epoch_stats={\"data_pipeline\": \"/opt/ml/input/data/train\", \"epoch\": 4, \"duration\": 147, \"num_examples\": 6, \"num_bytes\": 1248}\u001b[0m\n",
      "\u001b[34m#metrics {\"StartTime\": 1682084581.9602132, \"EndTime\": 1682084581.9603362, \"Dimensions\": {\"Algorithm\": \"Linear Learner\", \"Host\": \"algo-1\", \"Operation\": \"training\", \"epoch\": 0, \"model\": 0}, \"Metrics\": {\"train_absolute_loss_objective\": {\"sum\": 0.9036269760131836, \"count\": 1, \"min\": 0.9036269760131836, \"max\": 0.9036269760131836}}}\u001b[0m\n",
      "\u001b[34m#metrics {\"StartTime\": 1682084581.9604566, \"EndTime\": 1682084581.9604776, \"Dimensions\": {\"Algorithm\": \"Linear Learner\", \"Host\": \"algo-1\", \"Operation\": \"training\", \"epoch\": 0, \"model\": 1}, \"Metrics\": {\"train_absolute_loss_objective\": {\"sum\": 0.9233611583709717, \"count\": 1, \"min\": 0.9233611583709717, \"max\": 0.9233611583709717}}}\u001b[0m\n",
      "\u001b[34m#metrics {\"StartTime\": 1682084581.9605486, \"EndTime\": 1682084581.960569, \"Dimensions\": {\"Algorithm\": \"Linear Learner\", \"Host\": \"algo-1\", \"Operation\": \"training\", \"epoch\": 0, \"model\": 2}, \"Metrics\": {\"train_absolute_loss_objective\": {\"sum\": 0.9060175132751465, \"count\": 1, \"min\": 0.9060175132751465, \"max\": 0.9060175132751465}}}\u001b[0m\n",
      "\u001b[34m#metrics {\"StartTime\": 1682084581.960635, \"EndTime\": 1682084581.9606545, \"Dimensions\": {\"Algorithm\": \"Linear Learner\", \"Host\": \"algo-1\", \"Operation\": \"training\", \"epoch\": 0, \"model\": 3}, \"Metrics\": {\"train_absolute_loss_objective\": {\"sum\": 0.9223526668548584, \"count\": 1, \"min\": 0.9223526668548584, \"max\": 0.9223526668548584}}}\u001b[0m\n",
      "\u001b[34m#metrics {\"StartTime\": 1682084581.9607189, \"EndTime\": 1682084581.9607375, \"Dimensions\": {\"Algorithm\": \"Linear Learner\", \"Host\": \"algo-1\", \"Operation\": \"training\", \"epoch\": 0, \"model\": 4}, \"Metrics\": {\"train_absolute_loss_objective\": {\"sum\": 0.8136764717102051, \"count\": 1, \"min\": 0.8136764717102051, \"max\": 0.8136764717102051}}}\u001b[0m\n",
      "\u001b[34m#metrics {\"StartTime\": 1682084581.9607978, \"EndTime\": 1682084581.9608152, \"Dimensions\": {\"Algorithm\": \"Linear Learner\", \"Host\": \"algo-1\", \"Operation\": \"training\", \"epoch\": 0, \"model\": 5}, \"Metrics\": {\"train_absolute_loss_objective\": {\"sum\": 0.8222293663024902, \"count\": 1, \"min\": 0.8222293663024902, \"max\": 0.8222293663024902}}}\u001b[0m\n",
      "\u001b[34m#metrics {\"StartTime\": 1682084581.9608684, \"EndTime\": 1682084581.9608839, \"Dimensions\": {\"Algorithm\": \"Linear Learner\", \"Host\": \"algo-1\", \"Operation\": \"training\", \"epoch\": 0, \"model\": 6}, \"Metrics\": {\"train_absolute_loss_objective\": {\"sum\": 0.8999552631378174, \"count\": 1, \"min\": 0.8999552631378174, \"max\": 0.8999552631378174}}}\u001b[0m\n",
      "\u001b[34m#metrics {\"StartTime\": 1682084581.9609482, \"EndTime\": 1682084581.960966, \"Dimensions\": {\"Algorithm\": \"Linear Learner\", \"Host\": \"algo-1\", \"Operation\": \"training\", \"epoch\": 0, \"model\": 7}, \"Metrics\": {\"train_absolute_loss_objective\": {\"sum\": 0.871522159576416, \"count\": 1, \"min\": 0.871522159576416, \"max\": 0.871522159576416}}}\u001b[0m\n",
      "\u001b[34m#metrics {\"StartTime\": 1682084581.9610245, \"EndTime\": 1682084581.9610422, \"Dimensions\": {\"Algorithm\": \"Linear Learner\", \"Host\": \"algo-1\", \"Operation\": \"training\", \"epoch\": 0, \"model\": 8}, \"Metrics\": {\"train_absolute_loss_objective\": {\"sum\": 0.9590356922149659, \"count\": 1, \"min\": 0.9590356922149659, \"max\": 0.9590356922149659}}}\u001b[0m\n",
      "\u001b[34m#metrics {\"StartTime\": 1682084581.961101, \"EndTime\": 1682084581.9611204, \"Dimensions\": {\"Algorithm\": \"Linear Learner\", \"Host\": \"algo-1\", \"Operation\": \"training\", \"epoch\": 0, \"model\": 9}, \"Metrics\": {\"train_absolute_loss_objective\": {\"sum\": 0.8917025756835938, \"count\": 1, \"min\": 0.8917025756835938, \"max\": 0.8917025756835938}}}\u001b[0m\n",
      "\u001b[34m#metrics {\"StartTime\": 1682084581.9611828, \"EndTime\": 1682084581.961201, \"Dimensions\": {\"Algorithm\": \"Linear Learner\", \"Host\": \"algo-1\", \"Operation\": \"training\", \"epoch\": 0, \"model\": 10}, \"Metrics\": {\"train_absolute_loss_objective\": {\"sum\": 0.8983426570892334, \"count\": 1, \"min\": 0.8983426570892334, \"max\": 0.8983426570892334}}}\u001b[0m\n",
      "\u001b[34m#metrics {\"StartTime\": 1682084581.9612613, \"EndTime\": 1682084581.9612787, \"Dimensions\": {\"Algorithm\": \"Linear Learner\", \"Host\": \"algo-1\", \"Operation\": \"training\", \"epoch\": 0, \"model\": 11}, \"Metrics\": {\"train_absolute_loss_objective\": {\"sum\": 0.8836595439910888, \"count\": 1, \"min\": 0.8836595439910888, \"max\": 0.8836595439910888}}}\u001b[0m\n",
      "\u001b[34m#metrics {\"StartTime\": 1682084581.9613395, \"EndTime\": 1682084581.9613578, \"Dimensions\": {\"Algorithm\": \"Linear Learner\", \"Host\": \"algo-1\", \"Operation\": \"training\", \"epoch\": 0, \"model\": 12}, \"Metrics\": {\"train_absolute_loss_objective\": {\"sum\": 0.8214625930786132, \"count\": 1, \"min\": 0.8214625930786132, \"max\": 0.8214625930786132}}}\u001b[0m\n",
      "\u001b[34m#metrics {\"StartTime\": 1682084581.9614217, \"EndTime\": 1682084581.9614394, \"Dimensions\": {\"Algorithm\": \"Linear Learner\", \"Host\": \"algo-1\", \"Operation\": \"training\", \"epoch\": 0, \"model\": 13}, \"Metrics\": {\"train_absolute_loss_objective\": {\"sum\": 0.844535608291626, \"count\": 1, \"min\": 0.844535608291626, \"max\": 0.844535608291626}}}\u001b[0m\n",
      "\u001b[34m#metrics {\"StartTime\": 1682084581.9615014, \"EndTime\": 1682084581.96152, \"Dimensions\": {\"Algorithm\": \"Linear Learner\", \"Host\": \"algo-1\", \"Operation\": \"training\", \"epoch\": 0, \"model\": 14}, \"Metrics\": {\"train_absolute_loss_objective\": {\"sum\": 0.8201556396484375, \"count\": 1, \"min\": 0.8201556396484375, \"max\": 0.8201556396484375}}}\u001b[0m\n",
      "\u001b[34m#metrics {\"StartTime\": 1682084581.9615843, \"EndTime\": 1682084581.9616022, \"Dimensions\": {\"Algorithm\": \"Linear Learner\", \"Host\": \"algo-1\", \"Operation\": \"training\", \"epoch\": 0, \"model\": 15}, \"Metrics\": {\"train_absolute_loss_objective\": {\"sum\": 0.8500654602050781, \"count\": 1, \"min\": 0.8500654602050781, \"max\": 0.8500654602050781}}}\u001b[0m\n",
      "\u001b[34m#metrics {\"StartTime\": 1682084581.961669, \"EndTime\": 1682084581.9616883, \"Dimensions\": {\"Algorithm\": \"Linear Learner\", \"Host\": \"algo-1\", \"Operation\": \"training\", \"epoch\": 0, \"model\": 16}, \"Metrics\": {\"train_absolute_loss_objective\": {\"sum\": 0.8678185653686523, \"count\": 1, \"min\": 0.8678185653686523, \"max\": 0.8678185653686523}}}\u001b[0m\n",
      "\u001b[34m#metrics {\"StartTime\": 1682084581.9617543, \"EndTime\": 1682084581.9617734, \"Dimensions\": {\"Algorithm\": \"Linear Learner\", \"Host\": \"algo-1\", \"Operation\": \"training\", \"epoch\": 0, \"model\": 17}, \"Metrics\": {\"train_absolute_loss_objective\": {\"sum\": 0.9186494636535645, \"count\": 1, \"min\": 0.9186494636535645, \"max\": 0.9186494636535645}}}\u001b[0m\n",
      "\u001b[34m#metrics {\"StartTime\": 1682084581.9618385, \"EndTime\": 1682084581.9618583, \"Dimensions\": {\"Algorithm\": \"Linear Learner\", \"Host\": \"algo-1\", \"Operation\": \"training\", \"epoch\": 0, \"model\": 18}, \"Metrics\": {\"train_absolute_loss_objective\": {\"sum\": 0.8946605968475342, \"count\": 1, \"min\": 0.8946605968475342, \"max\": 0.8946605968475342}}}\u001b[0m\n",
      "\u001b[34m#metrics {\"StartTime\": 1682084581.9619243, \"EndTime\": 1682084581.9619434, \"Dimensions\": {\"Algorithm\": \"Linear Learner\", \"Host\": \"algo-1\", \"Operation\": \"training\", \"epoch\": 0, \"model\": 19}, \"Metrics\": {\"train_absolute_loss_objective\": {\"sum\": 0.8919809913635254, \"count\": 1, \"min\": 0.8919809913635254, \"max\": 0.8919809913635254}}}\u001b[0m\n",
      "\u001b[34m#metrics {\"StartTime\": 1682084581.9620087, \"EndTime\": 1682084581.9620275, \"Dimensions\": {\"Algorithm\": \"Linear Learner\", \"Host\": \"algo-1\", \"Operation\": \"training\", \"epoch\": 0, \"model\": 20}, \"Metrics\": {\"train_absolute_loss_objective\": {\"sum\": 0.8636504364013672, \"count\": 1, \"min\": 0.8636504364013672, \"max\": 0.8636504364013672}}}\u001b[0m\n",
      "\u001b[34m#metrics {\"StartTime\": 1682084581.9620872, \"EndTime\": 1682084581.962105, \"Dimensions\": {\"Algorithm\": \"Linear Learner\", \"Host\": \"algo-1\", \"Operation\": \"training\", \"epoch\": 0, \"model\": 21}, \"Metrics\": {\"train_absolute_loss_objective\": {\"sum\": 0.878389663696289, \"count\": 1, \"min\": 0.878389663696289, \"max\": 0.878389663696289}}}\u001b[0m\n",
      "\u001b[34m#metrics {\"StartTime\": 1682084581.9621637, \"EndTime\": 1682084581.9621818, \"Dimensions\": {\"Algorithm\": \"Linear Learner\", \"Host\": \"algo-1\", \"Operation\": \"training\", \"epoch\": 0, \"model\": 22}, \"Metrics\": {\"train_absolute_loss_objective\": {\"sum\": 0.8193925762176514, \"count\": 1, \"min\": 0.8193925762176514, \"max\": 0.8193925762176514}}}\u001b[0m\n",
      "\u001b[34m#metrics {\"StartTime\": 1682084581.9622478, \"EndTime\": 1682084581.9622662, \"Dimensions\": {\"Algorithm\": \"Linear Learner\", \"Host\": \"algo-1\", \"Operation\": \"training\", \"epoch\": 0, \"model\": 23}, \"Metrics\": {\"train_absolute_loss_objective\": {\"sum\": 0.9037671089172363, \"count\": 1, \"min\": 0.9037671089172363, \"max\": 0.9037671089172363}}}\u001b[0m\n",
      "\u001b[34m#metrics {\"StartTime\": 1682084581.962333, \"EndTime\": 1682084581.9623506, \"Dimensions\": {\"Algorithm\": \"Linear Learner\", \"Host\": \"algo-1\", \"Operation\": \"training\", \"epoch\": 0, \"model\": 24}, \"Metrics\": {\"train_absolute_loss_objective\": {\"sum\": 0.8696462345123291, \"count\": 1, \"min\": 0.8696462345123291, \"max\": 0.8696462345123291}}}\u001b[0m\n",
      "\u001b[34m#metrics {\"StartTime\": 1682084581.9624074, \"EndTime\": 1682084581.9624245, \"Dimensions\": {\"Algorithm\": \"Linear Learner\", \"Host\": \"algo-1\", \"Operation\": \"training\", \"epoch\": 0, \"model\": 25}, \"Metrics\": {\"train_absolute_loss_objective\": {\"sum\": 0.9367897319793701, \"count\": 1, \"min\": 0.9367897319793701, \"max\": 0.9367897319793701}}}\u001b[0m\n",
      "\u001b[34m#metrics {\"StartTime\": 1682084581.9624817, \"EndTime\": 1682084581.9624994, \"Dimensions\": {\"Algorithm\": \"Linear Learner\", \"Host\": \"algo-1\", \"Operation\": \"training\", \"epoch\": 0, \"model\": 26}, \"Metrics\": {\"train_absolute_loss_objective\": {\"sum\": 0.9235935306549072, \"count\": 1, \"min\": 0.9235935306549072, \"max\": 0.9235935306549072}}}\u001b[0m\n",
      "\u001b[34m#metrics {\"StartTime\": 1682084581.9625604, \"EndTime\": 1682084581.9625788, \"Dimensions\": {\"Algorithm\": \"Linear Learner\", \"Host\": \"algo-1\", \"Operation\": \"training\", \"epoch\": 0, \"model\": 27}, \"Metrics\": {\"train_absolute_loss_objective\": {\"sum\": 0.912896432876587, \"count\": 1, \"min\": 0.912896432876587, \"max\": 0.912896432876587}}}\u001b[0m\n",
      "\u001b[34m#metrics {\"StartTime\": 1682084581.9626403, \"EndTime\": 1682084581.9626834, \"Dimensions\": {\"Algorithm\": \"Linear Learner\", \"Host\": \"algo-1\", \"Operation\": \"training\", \"epoch\": 0, \"model\": 28}, \"Metrics\": {\"train_absolute_loss_objective\": {\"sum\": 0.9922688388824463, \"count\": 1, \"min\": 0.9922688388824463, \"max\": 0.9922688388824463}}}\u001b[0m\n",
      "\u001b[34m#metrics {\"StartTime\": 1682084581.9627464, \"EndTime\": 1682084581.9627652, \"Dimensions\": {\"Algorithm\": \"Linear Learner\", \"Host\": \"algo-1\", \"Operation\": \"training\", \"epoch\": 0, \"model\": 29}, \"Metrics\": {\"train_absolute_loss_objective\": {\"sum\": 0.9926725864410401, \"count\": 1, \"min\": 0.9926725864410401, \"max\": 0.9926725864410401}}}\u001b[0m\n",
      "\u001b[34m#metrics {\"StartTime\": 1682084581.9628217, \"EndTime\": 1682084581.9628391, \"Dimensions\": {\"Algorithm\": \"Linear Learner\", \"Host\": \"algo-1\", \"Operation\": \"training\", \"epoch\": 0, \"model\": 30}, \"Metrics\": {\"train_absolute_loss_objective\": {\"sum\": 0.9989365005493164, \"count\": 1, \"min\": 0.9989365005493164, \"max\": 0.9989365005493164}}}\u001b[0m\n",
      "\u001b[34m#metrics {\"StartTime\": 1682084581.9628901, \"EndTime\": 1682084581.9629061, \"Dimensions\": {\"Algorithm\": \"Linear Learner\", \"Host\": \"algo-1\", \"Operation\": \"training\", \"epoch\": 0, \"model\": 31}, \"Metrics\": {\"train_absolute_loss_objective\": {\"sum\": 0.9931916999816894, \"count\": 1, \"min\": 0.9931916999816894, \"max\": 0.9931916999816894}}}\u001b[0m\n",
      "\u001b[34m[04/21/2023 13:43:01 INFO 139973930325824] #quality_metric: host=algo-1, epoch=0, train absolute_loss_objective <loss>=0.9036269760131836\u001b[0m\n",
      "\u001b[34m[04/21/2023 13:43:01 INFO 139973930325824] #early_stopping_criteria_metric: host=algo-1, epoch=0, criteria=absolute_loss_objective, value=0.8136764717102051\u001b[0m\n",
      "\u001b[34m[04/21/2023 13:43:01 INFO 139973930325824] Epoch 0: Loss improved. Updating best model\u001b[0m\n",
      "\u001b[34m[04/21/2023 13:43:01 INFO 139973930325824] Saving model for epoch: 0\u001b[0m\n",
      "\u001b[34m[04/21/2023 13:43:01 INFO 139973930325824] Saved checkpoint to \"/tmp/tmpwc95u_49/mx-mod-0000.params\"\u001b[0m\n",
      "\u001b[34m[04/21/2023 13:43:01 INFO 139973930325824] #progress_metric: host=algo-1, completed 20.0 % of epochs\u001b[0m\n",
      "\u001b[34m#metrics {\"StartTime\": 1682084581.8120542, \"EndTime\": 1682084581.979504, \"Dimensions\": {\"Algorithm\": \"Linear Learner\", \"Host\": \"algo-1\", \"Operation\": \"training\", \"epoch\": 0, \"Meta\": \"training_data_iter\"}, \"Metrics\": {\"Total Records Seen\": {\"sum\": 57.0, \"count\": 1, \"min\": 57, \"max\": 57}, \"Total Batches Seen\": {\"sum\": 13.0, \"count\": 1, \"min\": 13, \"max\": 13}, \"Max Records Seen Between Resets\": {\"sum\": 26.0, \"count\": 1, \"min\": 26, \"max\": 26}, \"Max Batches Seen Between Resets\": {\"sum\": 6.0, \"count\": 1, \"min\": 6, \"max\": 6}, \"Reset Count\": {\"sum\": 3.0, \"count\": 1, \"min\": 3, \"max\": 3}, \"Number of Records Since Last Reset\": {\"sum\": 26.0, \"count\": 1, \"min\": 26, \"max\": 26}, \"Number of Batches Since Last Reset\": {\"sum\": 6.0, \"count\": 1, \"min\": 6, \"max\": 6}}}\u001b[0m\n",
      "\u001b[34m[04/21/2023 13:43:01 INFO 139973930325824] #throughput_metric: host=algo-1, train throughput=155.10993909498737 records/second\u001b[0m\n",
      "\u001b[34m[2023-04-21 13:43:02.124] [tensorio] [info] epoch_stats={\"data_pipeline\": \"/opt/ml/input/data/train\", \"epoch\": 6, \"duration\": 144, \"num_examples\": 6, \"num_bytes\": 1248}\u001b[0m\n",
      "\u001b[34m#metrics {\"StartTime\": 1682084582.1242433, \"EndTime\": 1682084582.1243243, \"Dimensions\": {\"Algorithm\": \"Linear Learner\", \"Host\": \"algo-1\", \"Operation\": \"training\", \"epoch\": 1, \"model\": 0}, \"Metrics\": {\"train_absolute_loss_objective\": {\"sum\": 0.8767692947387695, \"count\": 1, \"min\": 0.8767692947387695, \"max\": 0.8767692947387695}}}\u001b[0m\n",
      "\u001b[34m#metrics {\"StartTime\": 1682084582.1244226, \"EndTime\": 1682084582.1244383, \"Dimensions\": {\"Algorithm\": \"Linear Learner\", \"Host\": \"algo-1\", \"Operation\": \"training\", \"epoch\": 1, \"model\": 1}, \"Metrics\": {\"train_absolute_loss_objective\": {\"sum\": 0.8965034866333008, \"count\": 1, \"min\": 0.8965034866333008, \"max\": 0.8965034866333008}}}\u001b[0m\n",
      "\u001b[34m#metrics {\"StartTime\": 1682084582.12449, \"EndTime\": 1682084582.1245017, \"Dimensions\": {\"Algorithm\": \"Linear Learner\", \"Host\": \"algo-1\", \"Operation\": \"training\", \"epoch\": 1, \"model\": 2}, \"Metrics\": {\"train_absolute_loss_objective\": {\"sum\": 0.8791598129272461, \"count\": 1, \"min\": 0.8791598129272461, \"max\": 0.8791598129272461}}}\u001b[0m\n",
      "\u001b[34m#metrics {\"StartTime\": 1682084582.1245434, \"EndTime\": 1682084582.124554, \"Dimensions\": {\"Algorithm\": \"Linear Learner\", \"Host\": \"algo-1\", \"Operation\": \"training\", \"epoch\": 1, \"model\": 3}, \"Metrics\": {\"train_absolute_loss_objective\": {\"sum\": 0.895494966506958, \"count\": 1, \"min\": 0.895494966506958, \"max\": 0.895494966506958}}}\u001b[0m\n",
      "\u001b[34m#metrics {\"StartTime\": 1682084582.1245959, \"EndTime\": 1682084582.124608, \"Dimensions\": {\"Algorithm\": \"Linear Learner\", \"Host\": \"algo-1\", \"Operation\": \"training\", \"epoch\": 1, \"model\": 4}, \"Metrics\": {\"train_absolute_loss_objective\": {\"sum\": 0.40367340087890624, \"count\": 1, \"min\": 0.40367340087890624, \"max\": 0.40367340087890624}}}\u001b[0m\n",
      "\u001b[34m#metrics {\"StartTime\": 1682084582.1246436, \"EndTime\": 1682084582.124671, \"Dimensions\": {\"Algorithm\": \"Linear Learner\", \"Host\": \"algo-1\", \"Operation\": \"training\", \"epoch\": 1, \"model\": 5}, \"Metrics\": {\"train_absolute_loss_objective\": {\"sum\": 0.4099677896499634, \"count\": 1, \"min\": 0.4099677896499634, \"max\": 0.4099677896499634}}}\u001b[0m\n",
      "\u001b[34m#metrics {\"StartTime\": 1682084582.125032, \"EndTime\": 1682084582.1250508, \"Dimensions\": {\"Algorithm\": \"Linear Learner\", \"Host\": \"algo-1\", \"Operation\": \"training\", \"epoch\": 1, \"model\": 6}, \"Metrics\": {\"train_absolute_loss_objective\": {\"sum\": 0.5364096784591674, \"count\": 1, \"min\": 0.5364096784591674, \"max\": 0.5364096784591674}}}\u001b[0m\n",
      "\u001b[34m#metrics {\"StartTime\": 1682084582.1251247, \"EndTime\": 1682084582.1251376, \"Dimensions\": {\"Algorithm\": \"Linear Learner\", \"Host\": \"algo-1\", \"Operation\": \"training\", \"epoch\": 1, \"model\": 7}, \"Metrics\": {\"train_absolute_loss_objective\": {\"sum\": 0.49987186908721926, \"count\": 1, \"min\": 0.49987186908721926, \"max\": 0.49987186908721926}}}\u001b[0m\n",
      "\u001b[34m#metrics {\"StartTime\": 1682084582.1251755, \"EndTime\": 1682084582.1251857, \"Dimensions\": {\"Algorithm\": \"Linear Learner\", \"Host\": \"algo-1\", \"Operation\": \"training\", \"epoch\": 1, \"model\": 8}, \"Metrics\": {\"train_absolute_loss_objective\": {\"sum\": 0.9321779632568359, \"count\": 1, \"min\": 0.9321779632568359, \"max\": 0.9321779632568359}}}\u001b[0m\n",
      "\u001b[34m#metrics {\"StartTime\": 1682084582.1252193, \"EndTime\": 1682084582.1252286, \"Dimensions\": {\"Algorithm\": \"Linear Learner\", \"Host\": \"algo-1\", \"Operation\": \"training\", \"epoch\": 1, \"model\": 9}, \"Metrics\": {\"train_absolute_loss_objective\": {\"sum\": 0.8648455142974854, \"count\": 1, \"min\": 0.8648455142974854, \"max\": 0.8648455142974854}}}\u001b[0m\n",
      "\u001b[34m#metrics {\"StartTime\": 1682084582.1252615, \"EndTime\": 1682084582.1252708, \"Dimensions\": {\"Algorithm\": \"Linear Learner\", \"Host\": \"algo-1\", \"Operation\": \"training\", \"epoch\": 1, \"model\": 10}, \"Metrics\": {\"train_absolute_loss_objective\": {\"sum\": 0.8714855289459229, \"count\": 1, \"min\": 0.8714855289459229, \"max\": 0.8714855289459229}}}\u001b[0m\n",
      "\u001b[34m#metrics {\"StartTime\": 1682084582.1253033, \"EndTime\": 1682084582.1253123, \"Dimensions\": {\"Algorithm\": \"Linear Learner\", \"Host\": \"algo-1\", \"Operation\": \"training\", \"epoch\": 1, \"model\": 11}, \"Metrics\": {\"train_absolute_loss_objective\": {\"sum\": 0.8568025588989258, \"count\": 1, \"min\": 0.8568025588989258, \"max\": 0.8568025588989258}}}\u001b[0m\n",
      "\u001b[34m#metrics {\"StartTime\": 1682084582.1253443, \"EndTime\": 1682084582.125353, \"Dimensions\": {\"Algorithm\": \"Linear Learner\", \"Host\": \"algo-1\", \"Operation\": \"training\", \"epoch\": 1, \"model\": 12}, \"Metrics\": {\"train_absolute_loss_objective\": {\"sum\": 0.40957438468933105, \"count\": 1, \"min\": 0.40957438468933105, \"max\": 0.40957438468933105}}}\u001b[0m\n",
      "\u001b[34m#metrics {\"StartTime\": 1682084582.1253855, \"EndTime\": 1682084582.125394, \"Dimensions\": {\"Algorithm\": \"Linear Learner\", \"Host\": \"algo-1\", \"Operation\": \"training\", \"epoch\": 1, \"model\": 13}, \"Metrics\": {\"train_absolute_loss_objective\": {\"sum\": 0.4265471363067627, \"count\": 1, \"min\": 0.4265471363067627, \"max\": 0.4265471363067627}}}\u001b[0m\n",
      "\u001b[34m#metrics {\"StartTime\": 1682084582.1254263, \"EndTime\": 1682084582.1254354, \"Dimensions\": {\"Algorithm\": \"Linear Learner\", \"Host\": \"algo-1\", \"Operation\": \"training\", \"epoch\": 1, \"model\": 14}, \"Metrics\": {\"train_absolute_loss_objective\": {\"sum\": 0.4086129713058472, \"count\": 1, \"min\": 0.4086129713058472, \"max\": 0.4086129713058472}}}\u001b[0m\n",
      "\u001b[34m#metrics {\"StartTime\": 1682084582.1254673, \"EndTime\": 1682084582.1254764, \"Dimensions\": {\"Algorithm\": \"Linear Learner\", \"Host\": \"algo-1\", \"Operation\": \"training\", \"epoch\": 1, \"model\": 15}, \"Metrics\": {\"train_absolute_loss_objective\": {\"sum\": 0.4306149911880493, \"count\": 1, \"min\": 0.4306149911880493, \"max\": 0.4306149911880493}}}\u001b[0m\n",
      "\u001b[34m#metrics {\"StartTime\": 1682084582.1255078, \"EndTime\": 1682084582.125517, \"Dimensions\": {\"Algorithm\": \"Linear Learner\", \"Host\": \"algo-1\", \"Operation\": \"training\", \"epoch\": 1, \"model\": 16}, \"Metrics\": {\"train_absolute_loss_objective\": {\"sum\": 0.8410559844970703, \"count\": 1, \"min\": 0.8410559844970703, \"max\": 0.8410559844970703}}}\u001b[0m\n",
      "\u001b[34m#metrics {\"StartTime\": 1682084582.1255486, \"EndTime\": 1682084582.1255574, \"Dimensions\": {\"Algorithm\": \"Linear Learner\", \"Host\": \"algo-1\", \"Operation\": \"training\", \"epoch\": 1, \"model\": 17}, \"Metrics\": {\"train_absolute_loss_objective\": {\"sum\": 0.8918284606933594, \"count\": 1, \"min\": 0.8918284606933594, \"max\": 0.8918284606933594}}}\u001b[0m\n",
      "\u001b[34m#metrics {\"StartTime\": 1682084582.1255896, \"EndTime\": 1682084582.1255984, \"Dimensions\": {\"Algorithm\": \"Linear Learner\", \"Host\": \"algo-1\", \"Operation\": \"training\", \"epoch\": 1, \"model\": 18}, \"Metrics\": {\"train_absolute_loss_objective\": {\"sum\": 0.867865800857544, \"count\": 1, \"min\": 0.867865800857544, \"max\": 0.867865800857544}}}\u001b[0m\n",
      "\u001b[34m#metrics {\"StartTime\": 1682084582.1256354, \"EndTime\": 1682084582.1256456, \"Dimensions\": {\"Algorithm\": \"Linear Learner\", \"Host\": \"algo-1\", \"Operation\": \"training\", \"epoch\": 1, \"model\": 19}, \"Metrics\": {\"train_absolute_loss_objective\": {\"sum\": 0.8651892566680908, \"count\": 1, \"min\": 0.8651892566680908, \"max\": 0.8651892566680908}}}\u001b[0m\n",
      "\u001b[34m#metrics {\"StartTime\": 1682084582.1256719, \"EndTime\": 1682084582.1256788, \"Dimensions\": {\"Algorithm\": \"Linear Learner\", \"Host\": \"algo-1\", \"Operation\": \"training\", \"epoch\": 1, \"model\": 20}, \"Metrics\": {\"train_absolute_loss_objective\": {\"sum\": 0.5358974981307983, \"count\": 1, \"min\": 0.5358974981307983, \"max\": 0.5358974981307983}}}\u001b[0m\n",
      "\u001b[34m#metrics {\"StartTime\": 1682084582.1257012, \"EndTime\": 1682084582.125708, \"Dimensions\": {\"Algorithm\": \"Linear Learner\", \"Host\": \"algo-1\", \"Operation\": \"training\", \"epoch\": 1, \"model\": 21}, \"Metrics\": {\"train_absolute_loss_objective\": {\"sum\": 0.5235384273529052, \"count\": 1, \"min\": 0.5235384273529052, \"max\": 0.5235384273529052}}}\u001b[0m\n",
      "\u001b[34m#metrics {\"StartTime\": 1682084582.1257298, \"EndTime\": 1682084582.1257365, \"Dimensions\": {\"Algorithm\": \"Linear Learner\", \"Host\": \"algo-1\", \"Operation\": \"training\", \"epoch\": 1, \"model\": 22}, \"Metrics\": {\"train_absolute_loss_objective\": {\"sum\": 0.44825002670288083, \"count\": 1, \"min\": 0.44825002670288083, \"max\": 0.44825002670288083}}}\u001b[0m\n",
      "\u001b[34m#metrics {\"StartTime\": 1682084582.1257584, \"EndTime\": 1682084582.125765, \"Dimensions\": {\"Algorithm\": \"Linear Learner\", \"Host\": \"algo-1\", \"Operation\": \"training\", \"epoch\": 1, \"model\": 23}, \"Metrics\": {\"train_absolute_loss_objective\": {\"sum\": 0.5696900320053101, \"count\": 1, \"min\": 0.5696900320053101, \"max\": 0.5696900320053101}}}\u001b[0m\n",
      "\u001b[34m#metrics {\"StartTime\": 1682084582.1257868, \"EndTime\": 1682084582.1257932, \"Dimensions\": {\"Algorithm\": \"Linear Learner\", \"Host\": \"algo-1\", \"Operation\": \"training\", \"epoch\": 1, \"model\": 24}, \"Metrics\": {\"train_absolute_loss_objective\": {\"sum\": 0.8843796730041504, \"count\": 1, \"min\": 0.8843796730041504, \"max\": 0.8843796730041504}}}\u001b[0m\n",
      "\u001b[34m#metrics {\"StartTime\": 1682084582.1258154, \"EndTime\": 1682084582.1258216, \"Dimensions\": {\"Algorithm\": \"Linear Learner\", \"Host\": \"algo-1\", \"Operation\": \"training\", \"epoch\": 1, \"model\": 25}, \"Metrics\": {\"train_absolute_loss_objective\": {\"sum\": 0.9111325550079346, \"count\": 1, \"min\": 0.9111325550079346, \"max\": 0.9111325550079346}}}\u001b[0m\n",
      "\u001b[34m#metrics {\"StartTime\": 1682084582.1258435, \"EndTime\": 1682084582.12585, \"Dimensions\": {\"Algorithm\": \"Linear Learner\", \"Host\": \"algo-1\", \"Operation\": \"training\", \"epoch\": 1, \"model\": 26}, \"Metrics\": {\"train_absolute_loss_objective\": {\"sum\": 0.9005950546264648, \"count\": 1, \"min\": 0.9005950546264648, \"max\": 0.9005950546264648}}}\u001b[0m\n",
      "\u001b[34m#metrics {\"StartTime\": 1682084582.1258714, \"EndTime\": 1682084582.1258779, \"Dimensions\": {\"Algorithm\": \"Linear Learner\", \"Host\": \"algo-1\", \"Operation\": \"training\", \"epoch\": 1, \"model\": 27}, \"Metrics\": {\"train_absolute_loss_objective\": {\"sum\": 0.8999248886108399, \"count\": 1, \"min\": 0.8999248886108399, \"max\": 0.8999248886108399}}}\u001b[0m\n",
      "\u001b[34m#metrics {\"StartTime\": 1682084582.1258993, \"EndTime\": 1682084582.1259058, \"Dimensions\": {\"Algorithm\": \"Linear Learner\", \"Host\": \"algo-1\", \"Operation\": \"training\", \"epoch\": 1, \"model\": 28}, \"Metrics\": {\"train_absolute_loss_objective\": {\"sum\": 1.0134623432159424, \"count\": 1, \"min\": 1.0134623432159424, \"max\": 1.0134623432159424}}}\u001b[0m\n",
      "\u001b[34m#metrics {\"StartTime\": 1682084582.125928, \"EndTime\": 1682084582.1259344, \"Dimensions\": {\"Algorithm\": \"Linear Learner\", \"Host\": \"algo-1\", \"Operation\": \"training\", \"epoch\": 1, \"model\": 29}, \"Metrics\": {\"train_absolute_loss_objective\": {\"sum\": 1.0126166152954101, \"count\": 1, \"min\": 1.0126166152954101, \"max\": 1.0126166152954101}}}\u001b[0m\n",
      "\u001b[34m#metrics {\"StartTime\": 1682084582.1259558, \"EndTime\": 1682084582.1259623, \"Dimensions\": {\"Algorithm\": \"Linear Learner\", \"Host\": \"algo-1\", \"Operation\": \"training\", \"epoch\": 1, \"model\": 30}, \"Metrics\": {\"train_absolute_loss_objective\": {\"sum\": 1.0130572891235352, \"count\": 1, \"min\": 1.0130572891235352, \"max\": 1.0130572891235352}}}\u001b[0m\n",
      "\u001b[34m#metrics {\"StartTime\": 1682084582.125985, \"EndTime\": 1682084582.1259918, \"Dimensions\": {\"Algorithm\": \"Linear Learner\", \"Host\": \"algo-1\", \"Operation\": \"training\", \"epoch\": 1, \"model\": 31}, \"Metrics\": {\"train_absolute_loss_objective\": {\"sum\": 1.0059571647644043, \"count\": 1, \"min\": 1.0059571647644043, \"max\": 1.0059571647644043}}}\u001b[0m\n",
      "\u001b[34m[04/21/2023 13:43:02 INFO 139973930325824] #quality_metric: host=algo-1, epoch=1, train absolute_loss_objective <loss>=0.8767692947387695\u001b[0m\n",
      "\u001b[34m[04/21/2023 13:43:02 INFO 139973930325824] #early_stopping_criteria_metric: host=algo-1, epoch=1, criteria=absolute_loss_objective, value=0.40367340087890624\u001b[0m\n",
      "\u001b[34m[04/21/2023 13:43:02 INFO 139973930325824] Epoch 1: Loss improved. Updating best model\u001b[0m\n",
      "\u001b[34m[04/21/2023 13:43:02 INFO 139973930325824] Saving model for epoch: 1\u001b[0m\n",
      "\u001b[34m[04/21/2023 13:43:02 INFO 139973930325824] Saved checkpoint to \"/tmp/tmpa8vqhb6t/mx-mod-0000.params\"\u001b[0m\n",
      "\u001b[34m[04/21/2023 13:43:02 INFO 139973930325824] #progress_metric: host=algo-1, completed 40.0 % of epochs\u001b[0m\n",
      "\u001b[34m#metrics {\"StartTime\": 1682084581.979891, \"EndTime\": 1682084582.1355748, \"Dimensions\": {\"Algorithm\": \"Linear Learner\", \"Host\": \"algo-1\", \"Operation\": \"training\", \"epoch\": 1, \"Meta\": \"training_data_iter\"}, \"Metrics\": {\"Total Records Seen\": {\"sum\": 83.0, \"count\": 1, \"min\": 83, \"max\": 83}, \"Total Batches Seen\": {\"sum\": 19.0, \"count\": 1, \"min\": 19, \"max\": 19}, \"Max Records Seen Between Resets\": {\"sum\": 26.0, \"count\": 1, \"min\": 26, \"max\": 26}, \"Max Batches Seen Between Resets\": {\"sum\": 6.0, \"count\": 1, \"min\": 6, \"max\": 6}, \"Reset Count\": {\"sum\": 4.0, \"count\": 1, \"min\": 4, \"max\": 4}, \"Number of Records Since Last Reset\": {\"sum\": 26.0, \"count\": 1, \"min\": 26, \"max\": 26}, \"Number of Batches Since Last Reset\": {\"sum\": 6.0, \"count\": 1, \"min\": 6, \"max\": 6}}}\u001b[0m\n",
      "\u001b[34m[04/21/2023 13:43:02 INFO 139973930325824] #throughput_metric: host=algo-1, train throughput=166.8501205645112 records/second\u001b[0m\n",
      "\u001b[34m[2023-04-21 13:43:02.261] [tensorio] [info] epoch_stats={\"data_pipeline\": \"/opt/ml/input/data/train\", \"epoch\": 8, \"duration\": 125, \"num_examples\": 6, \"num_bytes\": 1248}\u001b[0m\n",
      "\u001b[34m#metrics {\"StartTime\": 1682084582.2613378, \"EndTime\": 1682084582.261417, \"Dimensions\": {\"Algorithm\": \"Linear Learner\", \"Host\": \"algo-1\", \"Operation\": \"training\", \"epoch\": 2, \"model\": 0}, \"Metrics\": {\"train_absolute_loss_objective\": {\"sum\": 0.8541801452636719, \"count\": 1, \"min\": 0.8541801452636719, \"max\": 0.8541801452636719}}}\u001b[0m\n",
      "\u001b[34m#metrics {\"StartTime\": 1682084582.261515, \"EndTime\": 1682084582.2615314, \"Dimensions\": {\"Algorithm\": \"Linear Learner\", \"Host\": \"algo-1\", \"Operation\": \"training\", \"epoch\": 2, \"model\": 1}, \"Metrics\": {\"train_absolute_loss_objective\": {\"sum\": 0.8738416004180908, \"count\": 1, \"min\": 0.8738416004180908, \"max\": 0.8738416004180908}}}\u001b[0m\n",
      "\u001b[34m#metrics {\"StartTime\": 1682084582.2615817, \"EndTime\": 1682084582.2615926, \"Dimensions\": {\"Algorithm\": \"Linear Learner\", \"Host\": \"algo-1\", \"Operation\": \"training\", \"epoch\": 2, \"model\": 2}, \"Metrics\": {\"train_absolute_loss_objective\": {\"sum\": 0.8565706825256347, \"count\": 1, \"min\": 0.8565706825256347, \"max\": 0.8565706825256347}}}\u001b[0m\n",
      "\u001b[34m#metrics {\"StartTime\": 1682084582.2616296, \"EndTime\": 1682084582.2616394, \"Dimensions\": {\"Algorithm\": \"Linear Learner\", \"Host\": \"algo-1\", \"Operation\": \"training\", \"epoch\": 2, \"model\": 3}, \"Metrics\": {\"train_absolute_loss_objective\": {\"sum\": 0.872833137512207, \"count\": 1, \"min\": 0.872833137512207, \"max\": 0.872833137512207}}}\u001b[0m\n",
      "\u001b[34m#metrics {\"StartTime\": 1682084582.2616773, \"EndTime\": 1682084582.261687, \"Dimensions\": {\"Algorithm\": \"Linear Learner\", \"Host\": \"algo-1\", \"Operation\": \"training\", \"epoch\": 2, \"model\": 4}, \"Metrics\": {\"train_absolute_loss_objective\": {\"sum\": 0.2515052700042725, \"count\": 1, \"min\": 0.2515052700042725, \"max\": 0.2515052700042725}}}\u001b[0m\n",
      "\u001b[34m#metrics {\"StartTime\": 1682084582.2617311, \"EndTime\": 1682084582.2617412, \"Dimensions\": {\"Algorithm\": \"Linear Learner\", \"Host\": \"algo-1\", \"Operation\": \"training\", \"epoch\": 2, \"model\": 5}, \"Metrics\": {\"train_absolute_loss_objective\": {\"sum\": 0.24711498737335205, \"count\": 1, \"min\": 0.24711498737335205, \"max\": 0.24711498737335205}}}\u001b[0m\n",
      "\u001b[34m#metrics {\"StartTime\": 1682084582.2617872, \"EndTime\": 1682084582.2617981, \"Dimensions\": {\"Algorithm\": \"Linear Learner\", \"Host\": \"algo-1\", \"Operation\": \"training\", \"epoch\": 2, \"model\": 6}, \"Metrics\": {\"train_absolute_loss_objective\": {\"sum\": 0.2045995819568634, \"count\": 1, \"min\": 0.2045995819568634, \"max\": 0.2045995819568634}}}\u001b[0m\n",
      "\u001b[34m#metrics {\"StartTime\": 1682084582.261836, \"EndTime\": 1682084582.2618458, \"Dimensions\": {\"Algorithm\": \"Linear Learner\", \"Host\": \"algo-1\", \"Operation\": \"training\", \"epoch\": 2, \"model\": 7}, \"Metrics\": {\"train_absolute_loss_objective\": {\"sum\": 0.18294385433197022, \"count\": 1, \"min\": 0.18294385433197022, \"max\": 0.18294385433197022}}}\u001b[0m\n",
      "\u001b[34m#metrics {\"StartTime\": 1682084582.261882, \"EndTime\": 1682084582.2618933, \"Dimensions\": {\"Algorithm\": \"Linear Learner\", \"Host\": \"algo-1\", \"Operation\": \"training\", \"epoch\": 2, \"model\": 8}, \"Metrics\": {\"train_absolute_loss_objective\": {\"sum\": 0.9095895576477051, \"count\": 1, \"min\": 0.9095895576477051, \"max\": 0.9095895576477051}}}\u001b[0m\n",
      "\u001b[34m#metrics {\"StartTime\": 1682084582.2619402, \"EndTime\": 1682084582.2619512, \"Dimensions\": {\"Algorithm\": \"Linear Learner\", \"Host\": \"algo-1\", \"Operation\": \"training\", \"epoch\": 2, \"model\": 9}, \"Metrics\": {\"train_absolute_loss_objective\": {\"sum\": 0.8421851539611817, \"count\": 1, \"min\": 0.8421851539611817, \"max\": 0.8421851539611817}}}\u001b[0m\n",
      "\u001b[34m#metrics {\"StartTime\": 1682084582.2619863, \"EndTime\": 1682084582.2619958, \"Dimensions\": {\"Algorithm\": \"Linear Learner\", \"Host\": \"algo-1\", \"Operation\": \"training\", \"epoch\": 2, \"model\": 10}, \"Metrics\": {\"train_absolute_loss_objective\": {\"sum\": 0.8488977909088135, \"count\": 1, \"min\": 0.8488977909088135, \"max\": 0.8488977909088135}}}\u001b[0m\n",
      "\u001b[34m#metrics {\"StartTime\": 1682084582.2620308, \"EndTime\": 1682084582.2620404, \"Dimensions\": {\"Algorithm\": \"Linear Learner\", \"Host\": \"algo-1\", \"Operation\": \"training\", \"epoch\": 2, \"model\": 11}, \"Metrics\": {\"train_absolute_loss_objective\": {\"sum\": 0.8341422557830811, \"count\": 1, \"min\": 0.8341422557830811, \"max\": 0.8341422557830811}}}\u001b[0m\n",
      "\u001b[34m#metrics {\"StartTime\": 1682084582.2620826, \"EndTime\": 1682084582.2620933, \"Dimensions\": {\"Algorithm\": \"Linear Learner\", \"Host\": \"algo-1\", \"Operation\": \"training\", \"epoch\": 2, \"model\": 12}, \"Metrics\": {\"train_absolute_loss_objective\": {\"sum\": 0.2452443027496338, \"count\": 1, \"min\": 0.2452443027496338, \"max\": 0.2452443027496338}}}\u001b[0m\n",
      "\u001b[34m#metrics {\"StartTime\": 1682084582.2621343, \"EndTime\": 1682084582.262145, \"Dimensions\": {\"Algorithm\": \"Linear Learner\", \"Host\": \"algo-1\", \"Operation\": \"training\", \"epoch\": 2, \"model\": 13}, \"Metrics\": {\"train_absolute_loss_objective\": {\"sum\": 0.23156548857688905, \"count\": 1, \"min\": 0.23156548857688905, \"max\": 0.23156548857688905}}}\u001b[0m\n",
      "\u001b[34m#metrics {\"StartTime\": 1682084582.262189, \"EndTime\": 1682084582.2622004, \"Dimensions\": {\"Algorithm\": \"Linear Learner\", \"Host\": \"algo-1\", \"Operation\": \"training\", \"epoch\": 2, \"model\": 14}, \"Metrics\": {\"train_absolute_loss_objective\": {\"sum\": 0.2460814142227173, \"count\": 1, \"min\": 0.2460814142227173, \"max\": 0.2460814142227173}}}\u001b[0m\n",
      "\u001b[34m#metrics {\"StartTime\": 1682084582.262238, \"EndTime\": 1682084582.2622476, \"Dimensions\": {\"Algorithm\": \"Linear Learner\", \"Host\": \"algo-1\", \"Operation\": \"training\", \"epoch\": 2, \"model\": 15}, \"Metrics\": {\"train_absolute_loss_objective\": {\"sum\": 0.22802376985549927, \"count\": 1, \"min\": 0.22802376985549927, \"max\": 0.22802376985549927}}}\u001b[0m\n",
      "\u001b[34m#metrics {\"StartTime\": 1682084582.2622814, \"EndTime\": 1682084582.2622907, \"Dimensions\": {\"Algorithm\": \"Linear Learner\", \"Host\": \"algo-1\", \"Operation\": \"training\", \"epoch\": 2, \"model\": 16}, \"Metrics\": {\"train_absolute_loss_objective\": {\"sum\": 0.818663501739502, \"count\": 1, \"min\": 0.818663501739502, \"max\": 0.818663501739502}}}\u001b[0m\n",
      "\u001b[34m#metrics {\"StartTime\": 1682084582.2623258, \"EndTime\": 1682084582.262335, \"Dimensions\": {\"Algorithm\": \"Linear Learner\", \"Host\": \"algo-1\", \"Operation\": \"training\", \"epoch\": 2, \"model\": 17}, \"Metrics\": {\"train_absolute_loss_objective\": {\"sum\": 0.8692916393280029, \"count\": 1, \"min\": 0.8692916393280029, \"max\": 0.8692916393280029}}}\u001b[0m\n",
      "\u001b[34m#metrics {\"StartTime\": 1682084582.2623768, \"EndTime\": 1682084582.2623873, \"Dimensions\": {\"Algorithm\": \"Linear Learner\", \"Host\": \"algo-1\", \"Operation\": \"training\", \"epoch\": 2, \"model\": 18}, \"Metrics\": {\"train_absolute_loss_objective\": {\"sum\": 0.8454334259033203, \"count\": 1, \"min\": 0.8454334259033203, \"max\": 0.8454334259033203}}}\u001b[0m\n",
      "\u001b[34m#metrics {\"StartTime\": 1682084582.2624242, \"EndTime\": 1682084582.2624338, \"Dimensions\": {\"Algorithm\": \"Linear Learner\", \"Host\": \"algo-1\", \"Operation\": \"training\", \"epoch\": 2, \"model\": 19}, \"Metrics\": {\"train_absolute_loss_objective\": {\"sum\": 0.842688798904419, \"count\": 1, \"min\": 0.842688798904419, \"max\": 0.842688798904419}}}\u001b[0m\n",
      "\u001b[34m#metrics {\"StartTime\": 1682084582.2624717, \"EndTime\": 1682084582.2624805, \"Dimensions\": {\"Algorithm\": \"Linear Learner\", \"Host\": \"algo-1\", \"Operation\": \"training\", \"epoch\": 2, \"model\": 20}, \"Metrics\": {\"train_absolute_loss_objective\": {\"sum\": 0.42481627464294436, \"count\": 1, \"min\": 0.42481627464294436, \"max\": 0.42481627464294436}}}\u001b[0m\n",
      "\u001b[34m#metrics {\"StartTime\": 1682084582.2625225, \"EndTime\": 1682084582.2625332, \"Dimensions\": {\"Algorithm\": \"Linear Learner\", \"Host\": \"algo-1\", \"Operation\": \"training\", \"epoch\": 2, \"model\": 21}, \"Metrics\": {\"train_absolute_loss_objective\": {\"sum\": 0.34292997360229494, \"count\": 1, \"min\": 0.34292997360229494, \"max\": 0.34292997360229494}}}\u001b[0m\n",
      "\u001b[34m#metrics {\"StartTime\": 1682084582.2625678, \"EndTime\": 1682084582.262578, \"Dimensions\": {\"Algorithm\": \"Linear Learner\", \"Host\": \"algo-1\", \"Operation\": \"training\", \"epoch\": 2, \"model\": 22}, \"Metrics\": {\"train_absolute_loss_objective\": {\"sum\": 0.24971086978912355, \"count\": 1, \"min\": 0.24971086978912355, \"max\": 0.24971086978912355}}}\u001b[0m\n",
      "\u001b[34m#metrics {\"StartTime\": 1682084582.2626123, \"EndTime\": 1682084582.2626214, \"Dimensions\": {\"Algorithm\": \"Linear Learner\", \"Host\": \"algo-1\", \"Operation\": \"training\", \"epoch\": 2, \"model\": 23}, \"Metrics\": {\"train_absolute_loss_objective\": {\"sum\": 0.4054513454437256, \"count\": 1, \"min\": 0.4054513454437256, \"max\": 0.4054513454437256}}}\u001b[0m\n",
      "\u001b[34m#metrics {\"StartTime\": 1682084582.262665, \"EndTime\": 1682084582.2626755, \"Dimensions\": {\"Algorithm\": \"Linear Learner\", \"Host\": \"algo-1\", \"Operation\": \"training\", \"epoch\": 2, \"model\": 24}, \"Metrics\": {\"train_absolute_loss_objective\": {\"sum\": 0.9000428199768067, \"count\": 1, \"min\": 0.9000428199768067, \"max\": 0.9000428199768067}}}\u001b[0m\n",
      "\u001b[34m#metrics {\"StartTime\": 1682084582.2627099, \"EndTime\": 1682084582.2627206, \"Dimensions\": {\"Algorithm\": \"Linear Learner\", \"Host\": \"algo-1\", \"Operation\": \"training\", \"epoch\": 2, \"model\": 25}, \"Metrics\": {\"train_absolute_loss_objective\": {\"sum\": 0.8956484699249267, \"count\": 1, \"min\": 0.8956484699249267, \"max\": 0.8956484699249267}}}\u001b[0m\n",
      "\u001b[34m#metrics {\"StartTime\": 1682084582.2627661, \"EndTime\": 1682084582.262781, \"Dimensions\": {\"Algorithm\": \"Linear Learner\", \"Host\": \"algo-1\", \"Operation\": \"training\", \"epoch\": 2, \"model\": 26}, \"Metrics\": {\"train_absolute_loss_objective\": {\"sum\": 0.8944490146636963, \"count\": 1, \"min\": 0.8944490146636963, \"max\": 0.8944490146636963}}}\u001b[0m\n",
      "\u001b[34m#metrics {\"StartTime\": 1682084582.2628345, \"EndTime\": 1682084582.262851, \"Dimensions\": {\"Algorithm\": \"Linear Learner\", \"Host\": \"algo-1\", \"Operation\": \"training\", \"epoch\": 2, \"model\": 27}, \"Metrics\": {\"train_absolute_loss_objective\": {\"sum\": 0.9037417125701904, \"count\": 1, \"min\": 0.9037417125701904, \"max\": 0.9037417125701904}}}\u001b[0m\n",
      "\u001b[34m#metrics {\"StartTime\": 1682084582.2629013, \"EndTime\": 1682084582.262918, \"Dimensions\": {\"Algorithm\": \"Linear Learner\", \"Host\": \"algo-1\", \"Operation\": \"training\", \"epoch\": 2, \"model\": 28}, \"Metrics\": {\"train_absolute_loss_objective\": {\"sum\": 1.0107981967926025, \"count\": 1, \"min\": 1.0107981967926025, \"max\": 1.0107981967926025}}}\u001b[0m\n",
      "\u001b[34m#metrics {\"StartTime\": 1682084582.2629805, \"EndTime\": 1682084582.2629983, \"Dimensions\": {\"Algorithm\": \"Linear Learner\", \"Host\": \"algo-1\", \"Operation\": \"training\", \"epoch\": 2, \"model\": 29}, \"Metrics\": {\"train_absolute_loss_objective\": {\"sum\": 1.013497838973999, \"count\": 1, \"min\": 1.013497838973999, \"max\": 1.013497838973999}}}\u001b[0m\n",
      "\u001b[34m#metrics {\"StartTime\": 1682084582.2630482, \"EndTime\": 1682084582.2630637, \"Dimensions\": {\"Algorithm\": \"Linear Learner\", \"Host\": \"algo-1\", \"Operation\": \"training\", \"epoch\": 2, \"model\": 30}, \"Metrics\": {\"train_absolute_loss_objective\": {\"sum\": 1.0083779335021972, \"count\": 1, \"min\": 1.0083779335021972, \"max\": 1.0083779335021972}}}\u001b[0m\n",
      "\u001b[34m#metrics {\"StartTime\": 1682084582.2631245, \"EndTime\": 1682084582.2631423, \"Dimensions\": {\"Algorithm\": \"Linear Learner\", \"Host\": \"algo-1\", \"Operation\": \"training\", \"epoch\": 2, \"model\": 31}, \"Metrics\": {\"train_absolute_loss_objective\": {\"sum\": 1.0300475978851318, \"count\": 1, \"min\": 1.0300475978851318, \"max\": 1.0300475978851318}}}\u001b[0m\n",
      "\u001b[34m[04/21/2023 13:43:02 INFO 139973930325824] #quality_metric: host=algo-1, epoch=2, train absolute_loss_objective <loss>=0.8541801452636719\u001b[0m\n",
      "\u001b[34m[04/21/2023 13:43:02 INFO 139973930325824] #early_stopping_criteria_metric: host=algo-1, epoch=2, criteria=absolute_loss_objective, value=0.18294385433197022\u001b[0m\n",
      "\u001b[34m[04/21/2023 13:43:02 INFO 139973930325824] Epoch 2: Loss improved. Updating best model\u001b[0m\n",
      "\u001b[34m[04/21/2023 13:43:02 INFO 139973930325824] Saving model for epoch: 2\u001b[0m\n",
      "\u001b[34m[04/21/2023 13:43:02 INFO 139973930325824] Saved checkpoint to \"/tmp/tmp9ucj6t2k/mx-mod-0000.params\"\u001b[0m\n",
      "\u001b[34m[04/21/2023 13:43:02 INFO 139973930325824] #progress_metric: host=algo-1, completed 60.0 % of epochs\u001b[0m\n",
      "\u001b[34m#metrics {\"StartTime\": 1682084582.1358788, \"EndTime\": 1682084582.2725494, \"Dimensions\": {\"Algorithm\": \"Linear Learner\", \"Host\": \"algo-1\", \"Operation\": \"training\", \"epoch\": 2, \"Meta\": \"training_data_iter\"}, \"Metrics\": {\"Total Records Seen\": {\"sum\": 109.0, \"count\": 1, \"min\": 109, \"max\": 109}, \"Total Batches Seen\": {\"sum\": 25.0, \"count\": 1, \"min\": 25, \"max\": 25}, \"Max Records Seen Between Resets\": {\"sum\": 26.0, \"count\": 1, \"min\": 26, \"max\": 26}, \"Max Batches Seen Between Resets\": {\"sum\": 6.0, \"count\": 1, \"min\": 6, \"max\": 6}, \"Reset Count\": {\"sum\": 5.0, \"count\": 1, \"min\": 5, \"max\": 5}, \"Number of Records Since Last Reset\": {\"sum\": 26.0, \"count\": 1, \"min\": 26, \"max\": 26}, \"Number of Batches Since Last Reset\": {\"sum\": 6.0, \"count\": 1, \"min\": 6, \"max\": 6}}}\u001b[0m\n",
      "\u001b[34m[04/21/2023 13:43:02 INFO 139973930325824] #throughput_metric: host=algo-1, train throughput=190.0690092706044 records/second\u001b[0m\n",
      "\u001b[34m[2023-04-21 13:43:02.392] [tensorio] [info] epoch_stats={\"data_pipeline\": \"/opt/ml/input/data/train\", \"epoch\": 10, \"duration\": 119, \"num_examples\": 6, \"num_bytes\": 1248}\u001b[0m\n",
      "\u001b[34m#metrics {\"StartTime\": 1682084582.3926198, \"EndTime\": 1682084582.392705, \"Dimensions\": {\"Algorithm\": \"Linear Learner\", \"Host\": \"algo-1\", \"Operation\": \"training\", \"epoch\": 3, \"model\": 0}, \"Metrics\": {\"train_absolute_loss_objective\": {\"sum\": 0.832029047012329, \"count\": 1, \"min\": 0.832029047012329, \"max\": 0.832029047012329}}}\u001b[0m\n",
      "\u001b[34m#metrics {\"StartTime\": 1682084582.3928123, \"EndTime\": 1682084582.3928328, \"Dimensions\": {\"Algorithm\": \"Linear Learner\", \"Host\": \"algo-1\", \"Operation\": \"training\", \"epoch\": 3, \"model\": 1}, \"Metrics\": {\"train_absolute_loss_objective\": {\"sum\": 0.8514667320251464, \"count\": 1, \"min\": 0.8514667320251464, \"max\": 0.8514667320251464}}}\u001b[0m\n",
      "\u001b[34m#metrics {\"StartTime\": 1682084582.392889, \"EndTime\": 1682084582.3929055, \"Dimensions\": {\"Algorithm\": \"Linear Learner\", \"Host\": \"algo-1\", \"Operation\": \"training\", \"epoch\": 3, \"model\": 2}, \"Metrics\": {\"train_absolute_loss_objective\": {\"sum\": 0.8344195365905762, \"count\": 1, \"min\": 0.8344195365905762, \"max\": 0.8344195365905762}}}\u001b[0m\n",
      "\u001b[34m#metrics {\"StartTime\": 1682084582.3929644, \"EndTime\": 1682084582.3929813, \"Dimensions\": {\"Algorithm\": \"Linear Learner\", \"Host\": \"algo-1\", \"Operation\": \"training\", \"epoch\": 3, \"model\": 3}, \"Metrics\": {\"train_absolute_loss_objective\": {\"sum\": 0.8504582405090332, \"count\": 1, \"min\": 0.8504582405090332, \"max\": 0.8504582405090332}}}\u001b[0m\n",
      "\u001b[34m#metrics {\"StartTime\": 1682084582.3930478, \"EndTime\": 1682084582.3930652, \"Dimensions\": {\"Algorithm\": \"Linear Learner\", \"Host\": \"algo-1\", \"Operation\": \"training\", \"epoch\": 3, \"model\": 4}, \"Metrics\": {\"train_absolute_loss_objective\": {\"sum\": 0.2608064389228821, \"count\": 1, \"min\": 0.2608064389228821, \"max\": 0.2608064389228821}}}\u001b[0m\n",
      "\u001b[34m#metrics {\"StartTime\": 1682084582.3931236, \"EndTime\": 1682084582.3931415, \"Dimensions\": {\"Algorithm\": \"Linear Learner\", \"Host\": \"algo-1\", \"Operation\": \"training\", \"epoch\": 3, \"model\": 5}, \"Metrics\": {\"train_absolute_loss_objective\": {\"sum\": 0.25760961294174195, \"count\": 1, \"min\": 0.25760961294174195, \"max\": 0.25760961294174195}}}\u001b[0m\n",
      "\u001b[34m#metrics {\"StartTime\": 1682084582.393199, \"EndTime\": 1682084582.3932164, \"Dimensions\": {\"Algorithm\": \"Linear Learner\", \"Host\": \"algo-1\", \"Operation\": \"training\", \"epoch\": 3, \"model\": 6}, \"Metrics\": {\"train_absolute_loss_objective\": {\"sum\": 0.29778634548187255, \"count\": 1, \"min\": 0.29778634548187255, \"max\": 0.29778634548187255}}}\u001b[0m\n",
      "\u001b[34m#metrics {\"StartTime\": 1682084582.3932793, \"EndTime\": 1682084582.3932965, \"Dimensions\": {\"Algorithm\": \"Linear Learner\", \"Host\": \"algo-1\", \"Operation\": \"training\", \"epoch\": 3, \"model\": 7}, \"Metrics\": {\"train_absolute_loss_objective\": {\"sum\": 0.2882000255584717, \"count\": 1, \"min\": 0.2882000255584717, \"max\": 0.2882000255584717}}}\u001b[0m\n",
      "\u001b[34m#metrics {\"StartTime\": 1682084582.393352, \"EndTime\": 1682084582.3933702, \"Dimensions\": {\"Algorithm\": \"Linear Learner\", \"Host\": \"algo-1\", \"Operation\": \"training\", \"epoch\": 3, \"model\": 8}, \"Metrics\": {\"train_absolute_loss_objective\": {\"sum\": 0.8874404907226563, \"count\": 1, \"min\": 0.8874404907226563, \"max\": 0.8874404907226563}}}\u001b[0m\n",
      "\u001b[34m#metrics {\"StartTime\": 1682084582.3934329, \"EndTime\": 1682084582.3934507, \"Dimensions\": {\"Algorithm\": \"Linear Learner\", \"Host\": \"algo-1\", \"Operation\": \"training\", \"epoch\": 3, \"model\": 9}, \"Metrics\": {\"train_absolute_loss_objective\": {\"sum\": 0.8198130798339843, \"count\": 1, \"min\": 0.8198130798339843, \"max\": 0.8198130798339843}}}\u001b[0m\n",
      "\u001b[34m#metrics {\"StartTime\": 1682084582.3935065, \"EndTime\": 1682084582.3935242, \"Dimensions\": {\"Algorithm\": \"Linear Learner\", \"Host\": \"algo-1\", \"Operation\": \"training\", \"epoch\": 3, \"model\": 10}, \"Metrics\": {\"train_absolute_loss_objective\": {\"sum\": 0.8267493534088135, \"count\": 1, \"min\": 0.8267493534088135, \"max\": 0.8267493534088135}}}\u001b[0m\n",
      "\u001b[34m#metrics {\"StartTime\": 1682084582.3935804, \"EndTime\": 1682084582.3935971, \"Dimensions\": {\"Algorithm\": \"Linear Learner\", \"Host\": \"algo-1\", \"Operation\": \"training\", \"epoch\": 3, \"model\": 11}, \"Metrics\": {\"train_absolute_loss_objective\": {\"sum\": 0.8117703056335449, \"count\": 1, \"min\": 0.8117703056335449, \"max\": 0.8117703056335449}}}\u001b[0m\n",
      "\u001b[34m#metrics {\"StartTime\": 1682084582.3936608, \"EndTime\": 1682084582.3936775, \"Dimensions\": {\"Algorithm\": \"Linear Learner\", \"Host\": \"algo-1\", \"Operation\": \"training\", \"epoch\": 3, \"model\": 12}, \"Metrics\": {\"train_absolute_loss_objective\": {\"sum\": 0.25363396644592284, \"count\": 1, \"min\": 0.25363396644592284, \"max\": 0.25363396644592284}}}\u001b[0m\n",
      "\u001b[34m#metrics {\"StartTime\": 1682084582.3937347, \"EndTime\": 1682084582.3937514, \"Dimensions\": {\"Algorithm\": \"Linear Learner\", \"Host\": \"algo-1\", \"Operation\": \"training\", \"epoch\": 3, \"model\": 13}, \"Metrics\": {\"train_absolute_loss_objective\": {\"sum\": 0.2427065849304199, \"count\": 1, \"min\": 0.2427065849304199, \"max\": 0.2427065849304199}}}\u001b[0m\n",
      "\u001b[34m#metrics {\"StartTime\": 1682084582.393806, \"EndTime\": 1682084582.3938243, \"Dimensions\": {\"Algorithm\": \"Linear Learner\", \"Host\": \"algo-1\", \"Operation\": \"training\", \"epoch\": 3, \"model\": 14}, \"Metrics\": {\"train_absolute_loss_objective\": {\"sum\": 0.25433154821395876, \"count\": 1, \"min\": 0.25433154821395876, \"max\": 0.25433154821395876}}}\u001b[0m\n",
      "\u001b[34m#metrics {\"StartTime\": 1682084582.393888, \"EndTime\": 1682084582.3939059, \"Dimensions\": {\"Algorithm\": \"Linear Learner\", \"Host\": \"algo-1\", \"Operation\": \"training\", \"epoch\": 3, \"model\": 15}, \"Metrics\": {\"train_absolute_loss_objective\": {\"sum\": 0.2397555947303772, \"count\": 1, \"min\": 0.2397555947303772, \"max\": 0.2397555947303772}}}\u001b[0m\n",
      "\u001b[34m#metrics {\"StartTime\": 1682084582.3939621, \"EndTime\": 1682084582.3939786, \"Dimensions\": {\"Algorithm\": \"Linear Learner\", \"Host\": \"algo-1\", \"Operation\": \"training\", \"epoch\": 3, \"model\": 16}, \"Metrics\": {\"train_absolute_loss_objective\": {\"sum\": 0.796857852935791, \"count\": 1, \"min\": 0.796857852935791, \"max\": 0.796857852935791}}}\u001b[0m\n",
      "\u001b[34m#metrics {\"StartTime\": 1682084582.3940365, \"EndTime\": 1682084582.394052, \"Dimensions\": {\"Algorithm\": \"Linear Learner\", \"Host\": \"algo-1\", \"Operation\": \"training\", \"epoch\": 3, \"model\": 17}, \"Metrics\": {\"train_absolute_loss_objective\": {\"sum\": 0.8471820640563965, \"count\": 1, \"min\": 0.8471820640563965, \"max\": 0.8471820640563965}}}\u001b[0m\n",
      "\u001b[34m#metrics {\"StartTime\": 1682084582.3941174, \"EndTime\": 1682084582.3941348, \"Dimensions\": {\"Algorithm\": \"Linear Learner\", \"Host\": \"algo-1\", \"Operation\": \"training\", \"epoch\": 3, \"model\": 18}, \"Metrics\": {\"train_absolute_loss_objective\": {\"sum\": 0.8235817718505859, \"count\": 1, \"min\": 0.8235817718505859, \"max\": 0.8235817718505859}}}\u001b[0m\n",
      "\u001b[34m#metrics {\"StartTime\": 1682084582.394198, \"EndTime\": 1682084582.3942122, \"Dimensions\": {\"Algorithm\": \"Linear Learner\", \"Host\": \"algo-1\", \"Operation\": \"training\", \"epoch\": 3, \"model\": 19}, \"Metrics\": {\"train_absolute_loss_objective\": {\"sum\": 0.8206215476989747, \"count\": 1, \"min\": 0.8206215476989747, \"max\": 0.8206215476989747}}}\u001b[0m\n",
      "\u001b[34m#metrics {\"StartTime\": 1682084582.3942645, \"EndTime\": 1682084582.3942773, \"Dimensions\": {\"Algorithm\": \"Linear Learner\", \"Host\": \"algo-1\", \"Operation\": \"training\", \"epoch\": 3, \"model\": 20}, \"Metrics\": {\"train_absolute_loss_objective\": {\"sum\": 0.4282786130905151, \"count\": 1, \"min\": 0.4282786130905151, \"max\": 0.4282786130905151}}}\u001b[0m\n",
      "\u001b[34m#metrics {\"StartTime\": 1682084582.3943286, \"EndTime\": 1682084582.3943415, \"Dimensions\": {\"Algorithm\": \"Linear Learner\", \"Host\": \"algo-1\", \"Operation\": \"training\", \"epoch\": 3, \"model\": 21}, \"Metrics\": {\"train_absolute_loss_objective\": {\"sum\": 0.30609606266021727, \"count\": 1, \"min\": 0.30609606266021727, \"max\": 0.30609606266021727}}}\u001b[0m\n",
      "\u001b[34m#metrics {\"StartTime\": 1682084582.3943949, \"EndTime\": 1682084582.3944077, \"Dimensions\": {\"Algorithm\": \"Linear Learner\", \"Host\": \"algo-1\", \"Operation\": \"training\", \"epoch\": 3, \"model\": 22}, \"Metrics\": {\"train_absolute_loss_objective\": {\"sum\": 0.3427469730377197, \"count\": 1, \"min\": 0.3427469730377197, \"max\": 0.3427469730377197}}}\u001b[0m\n",
      "\u001b[34m#metrics {\"StartTime\": 1682084582.3944526, \"EndTime\": 1682084582.3944645, \"Dimensions\": {\"Algorithm\": \"Linear Learner\", \"Host\": \"algo-1\", \"Operation\": \"training\", \"epoch\": 3, \"model\": 23}, \"Metrics\": {\"train_absolute_loss_objective\": {\"sum\": 0.32814760208129884, \"count\": 1, \"min\": 0.32814760208129884, \"max\": 0.32814760208129884}}}\u001b[0m\n",
      "\u001b[34m#metrics {\"StartTime\": 1682084582.3945045, \"EndTime\": 1682084582.3945158, \"Dimensions\": {\"Algorithm\": \"Linear Learner\", \"Host\": \"algo-1\", \"Operation\": \"training\", \"epoch\": 3, \"model\": 24}, \"Metrics\": {\"train_absolute_loss_objective\": {\"sum\": 0.9095758914947509, \"count\": 1, \"min\": 0.9095758914947509, \"max\": 0.9095758914947509}}}\u001b[0m\n",
      "\u001b[34m#metrics {\"StartTime\": 1682084582.3945541, \"EndTime\": 1682084582.394565, \"Dimensions\": {\"Algorithm\": \"Linear Learner\", \"Host\": \"algo-1\", \"Operation\": \"training\", \"epoch\": 3, \"model\": 25}, \"Metrics\": {\"train_absolute_loss_objective\": {\"sum\": 0.8905123329162598, \"count\": 1, \"min\": 0.8905123329162598, \"max\": 0.8905123329162598}}}\u001b[0m\n",
      "\u001b[34m#metrics {\"StartTime\": 1682084582.3946123, \"EndTime\": 1682084582.394627, \"Dimensions\": {\"Algorithm\": \"Linear Learner\", \"Host\": \"algo-1\", \"Operation\": \"training\", \"epoch\": 3, \"model\": 26}, \"Metrics\": {\"train_absolute_loss_objective\": {\"sum\": 0.898642807006836, \"count\": 1, \"min\": 0.898642807006836, \"max\": 0.898642807006836}}}\u001b[0m\n",
      "\u001b[34m#metrics {\"StartTime\": 1682084582.3946698, \"EndTime\": 1682084582.3946817, \"Dimensions\": {\"Algorithm\": \"Linear Learner\", \"Host\": \"algo-1\", \"Operation\": \"training\", \"epoch\": 3, \"model\": 27}, \"Metrics\": {\"train_absolute_loss_objective\": {\"sum\": 0.9031502723693847, \"count\": 1, \"min\": 0.9031502723693847, \"max\": 0.9031502723693847}}}\u001b[0m\n",
      "\u001b[34m#metrics {\"StartTime\": 1682084582.3947206, \"EndTime\": 1682084582.394731, \"Dimensions\": {\"Algorithm\": \"Linear Learner\", \"Host\": \"algo-1\", \"Operation\": \"training\", \"epoch\": 3, \"model\": 28}, \"Metrics\": {\"train_absolute_loss_objective\": {\"sum\": 0.9177239036560059, \"count\": 1, \"min\": 0.9177239036560059, \"max\": 0.9177239036560059}}}\u001b[0m\n",
      "\u001b[34m#metrics {\"StartTime\": 1682084582.394773, \"EndTime\": 1682084582.394786, \"Dimensions\": {\"Algorithm\": \"Linear Learner\", \"Host\": \"algo-1\", \"Operation\": \"training\", \"epoch\": 3, \"model\": 29}, \"Metrics\": {\"train_absolute_loss_objective\": {\"sum\": 0.9178829860687255, \"count\": 1, \"min\": 0.9178829860687255, \"max\": 0.9178829860687255}}}\u001b[0m\n",
      "\u001b[34m#metrics {\"StartTime\": 1682084582.3948376, \"EndTime\": 1682084582.3948503, \"Dimensions\": {\"Algorithm\": \"Linear Learner\", \"Host\": \"algo-1\", \"Operation\": \"training\", \"epoch\": 3, \"model\": 30}, \"Metrics\": {\"train_absolute_loss_objective\": {\"sum\": 0.9202354526519776, \"count\": 1, \"min\": 0.9202354526519776, \"max\": 0.9202354526519776}}}\u001b[0m\n",
      "\u001b[34m#metrics {\"StartTime\": 1682084582.3949, \"EndTime\": 1682084582.394912, \"Dimensions\": {\"Algorithm\": \"Linear Learner\", \"Host\": \"algo-1\", \"Operation\": \"training\", \"epoch\": 3, \"model\": 31}, \"Metrics\": {\"train_absolute_loss_objective\": {\"sum\": 0.8943065834045411, \"count\": 1, \"min\": 0.8943065834045411, \"max\": 0.8943065834045411}}}\u001b[0m\n",
      "\u001b[34m[04/21/2023 13:43:02 INFO 139973930325824] #quality_metric: host=algo-1, epoch=3, train absolute_loss_objective <loss>=0.832029047012329\u001b[0m\n",
      "\u001b[34m[04/21/2023 13:43:02 INFO 139973930325824] #early_stopping_criteria_metric: host=algo-1, epoch=3, criteria=absolute_loss_objective, value=0.2397555947303772\u001b[0m\n",
      "\u001b[34m[04/21/2023 13:43:02 INFO 139973930325824] Saving model for epoch: 3\u001b[0m\n",
      "\u001b[34m[04/21/2023 13:43:02 INFO 139973930325824] Saved checkpoint to \"/tmp/tmplco2m15u/mx-mod-0000.params\"\u001b[0m\n",
      "\u001b[34m[04/21/2023 13:43:02 INFO 139973930325824] #progress_metric: host=algo-1, completed 80.0 % of epochs\u001b[0m\n",
      "\u001b[34m#metrics {\"StartTime\": 1682084582.2728155, \"EndTime\": 1682084582.4031146, \"Dimensions\": {\"Algorithm\": \"Linear Learner\", \"Host\": \"algo-1\", \"Operation\": \"training\", \"epoch\": 3, \"Meta\": \"training_data_iter\"}, \"Metrics\": {\"Total Records Seen\": {\"sum\": 135.0, \"count\": 1, \"min\": 135, \"max\": 135}, \"Total Batches Seen\": {\"sum\": 31.0, \"count\": 1, \"min\": 31, \"max\": 31}, \"Max Records Seen Between Resets\": {\"sum\": 26.0, \"count\": 1, \"min\": 26, \"max\": 26}, \"Max Batches Seen Between Resets\": {\"sum\": 6.0, \"count\": 1, \"min\": 6, \"max\": 6}, \"Reset Count\": {\"sum\": 6.0, \"count\": 1, \"min\": 6, \"max\": 6}, \"Number of Records Since Last Reset\": {\"sum\": 26.0, \"count\": 1, \"min\": 26, \"max\": 26}, \"Number of Batches Since Last Reset\": {\"sum\": 6.0, \"count\": 1, \"min\": 6, \"max\": 6}}}\u001b[0m\n",
      "\u001b[34m[04/21/2023 13:43:02 INFO 139973930325824] #throughput_metric: host=algo-1, train throughput=199.31771474943613 records/second\u001b[0m\n",
      "\u001b[34m[2023-04-21 13:43:02.523] [tensorio] [info] epoch_stats={\"data_pipeline\": \"/opt/ml/input/data/train\", \"epoch\": 12, \"duration\": 119, \"num_examples\": 6, \"num_bytes\": 1248}\u001b[0m\n",
      "\u001b[34m#metrics {\"StartTime\": 1682084582.5235097, \"EndTime\": 1682084582.5236075, \"Dimensions\": {\"Algorithm\": \"Linear Learner\", \"Host\": \"algo-1\", \"Operation\": \"training\", \"epoch\": 4, \"model\": 0}, \"Metrics\": {\"train_absolute_loss_objective\": {\"sum\": 0.810030517578125, \"count\": 1, \"min\": 0.810030517578125, \"max\": 0.810030517578125}}}\u001b[0m\n",
      "\u001b[34m#metrics {\"StartTime\": 1682084582.523726, \"EndTime\": 1682084582.523748, \"Dimensions\": {\"Algorithm\": \"Linear Learner\", \"Host\": \"algo-1\", \"Operation\": \"training\", \"epoch\": 4, \"model\": 1}, \"Metrics\": {\"train_absolute_loss_objective\": {\"sum\": 0.8291712570190429, \"count\": 1, \"min\": 0.8291712570190429, \"max\": 0.8291712570190429}}}\u001b[0m\n",
      "\u001b[34m#metrics {\"StartTime\": 1682084582.5238125, \"EndTime\": 1682084582.5238285, \"Dimensions\": {\"Algorithm\": \"Linear Learner\", \"Host\": \"algo-1\", \"Operation\": \"training\", \"epoch\": 4, \"model\": 2}, \"Metrics\": {\"train_absolute_loss_objective\": {\"sum\": 0.8124210548400879, \"count\": 1, \"min\": 0.8124210548400879, \"max\": 0.8124210548400879}}}\u001b[0m\n",
      "\u001b[34m#metrics {\"StartTime\": 1682084582.5238924, \"EndTime\": 1682084582.523909, \"Dimensions\": {\"Algorithm\": \"Linear Learner\", \"Host\": \"algo-1\", \"Operation\": \"training\", \"epoch\": 4, \"model\": 3}, \"Metrics\": {\"train_absolute_loss_objective\": {\"sum\": 0.8281627559661865, \"count\": 1, \"min\": 0.8281627559661865, \"max\": 0.8281627559661865}}}\u001b[0m\n",
      "\u001b[34m#metrics {\"StartTime\": 1682084582.523971, \"EndTime\": 1682084582.5239885, \"Dimensions\": {\"Algorithm\": \"Linear Learner\", \"Host\": \"algo-1\", \"Operation\": \"training\", \"epoch\": 4, \"model\": 4}, \"Metrics\": {\"train_absolute_loss_objective\": {\"sum\": 0.2801392960548401, \"count\": 1, \"min\": 0.2801392960548401, \"max\": 0.2801392960548401}}}\u001b[0m\n",
      "\u001b[34m#metrics {\"StartTime\": 1682084582.52405, \"EndTime\": 1682084582.5240676, \"Dimensions\": {\"Algorithm\": \"Linear Learner\", \"Host\": \"algo-1\", \"Operation\": \"training\", \"epoch\": 4, \"model\": 5}, \"Metrics\": {\"train_absolute_loss_objective\": {\"sum\": 0.2830922794342041, \"count\": 1, \"min\": 0.2830922794342041, \"max\": 0.2830922794342041}}}\u001b[0m\n",
      "\u001b[34m#metrics {\"StartTime\": 1682084582.5241249, \"EndTime\": 1682084582.5241413, \"Dimensions\": {\"Algorithm\": \"Linear Learner\", \"Host\": \"algo-1\", \"Operation\": \"training\", \"epoch\": 4, \"model\": 6}, \"Metrics\": {\"train_absolute_loss_objective\": {\"sum\": 0.2520426273345947, \"count\": 1, \"min\": 0.2520426273345947, \"max\": 0.2520426273345947}}}\u001b[0m\n",
      "\u001b[34m#metrics {\"StartTime\": 1682084582.5241978, \"EndTime\": 1682084582.5242133, \"Dimensions\": {\"Algorithm\": \"Linear Learner\", \"Host\": \"algo-1\", \"Operation\": \"training\", \"epoch\": 4, \"model\": 7}, \"Metrics\": {\"train_absolute_loss_objective\": {\"sum\": 0.20924524784088136, \"count\": 1, \"min\": 0.20924524784088136, \"max\": 0.20924524784088136}}}\u001b[0m\n",
      "\u001b[34m#metrics {\"StartTime\": 1682084582.524272, \"EndTime\": 1682084582.524288, \"Dimensions\": {\"Algorithm\": \"Linear Learner\", \"Host\": \"algo-1\", \"Operation\": \"training\", \"epoch\": 4, \"model\": 8}, \"Metrics\": {\"train_absolute_loss_objective\": {\"sum\": 0.865445671081543, \"count\": 1, \"min\": 0.865445671081543, \"max\": 0.865445671081543}}}\u001b[0m\n",
      "\u001b[34m#metrics {\"StartTime\": 1682084582.5243433, \"EndTime\": 1682084582.524359, \"Dimensions\": {\"Algorithm\": \"Linear Learner\", \"Host\": \"algo-1\", \"Operation\": \"training\", \"epoch\": 4, \"model\": 9}, \"Metrics\": {\"train_absolute_loss_objective\": {\"sum\": 0.7975221157073975, \"count\": 1, \"min\": 0.7975221157073975, \"max\": 0.7975221157073975}}}\u001b[0m\n",
      "\u001b[34m#metrics {\"StartTime\": 1682084582.5244136, \"EndTime\": 1682084582.524429, \"Dimensions\": {\"Algorithm\": \"Linear Learner\", \"Host\": \"algo-1\", \"Operation\": \"training\", \"epoch\": 4, \"model\": 10}, \"Metrics\": {\"train_absolute_loss_objective\": {\"sum\": 0.8047552299499512, \"count\": 1, \"min\": 0.8047552299499512, \"max\": 0.8047552299499512}}}\u001b[0m\n",
      "\u001b[34m#metrics {\"StartTime\": 1682084582.524484, \"EndTime\": 1682084582.5244987, \"Dimensions\": {\"Algorithm\": \"Linear Learner\", \"Host\": \"algo-1\", \"Operation\": \"training\", \"epoch\": 4, \"model\": 11}, \"Metrics\": {\"train_absolute_loss_objective\": {\"sum\": 0.7894794273376465, \"count\": 1, \"min\": 0.7894794273376465, \"max\": 0.7894794273376465}}}\u001b[0m\n",
      "\u001b[34m#metrics {\"StartTime\": 1682084582.5245602, \"EndTime\": 1682084582.5245779, \"Dimensions\": {\"Algorithm\": \"Linear Learner\", \"Host\": \"algo-1\", \"Operation\": \"training\", \"epoch\": 4, \"model\": 12}, \"Metrics\": {\"train_absolute_loss_objective\": {\"sum\": 0.28089582920074463, \"count\": 1, \"min\": 0.28089582920074463, \"max\": 0.28089582920074463}}}\u001b[0m\n",
      "\u001b[34m#metrics {\"StartTime\": 1682084582.5246496, \"EndTime\": 1682084582.5246682, \"Dimensions\": {\"Algorithm\": \"Linear Learner\", \"Host\": \"algo-1\", \"Operation\": \"training\", \"epoch\": 4, \"model\": 13}, \"Metrics\": {\"train_absolute_loss_objective\": {\"sum\": 0.2836098861694336, \"count\": 1, \"min\": 0.2836098861694336, \"max\": 0.2836098861694336}}}\u001b[0m\n",
      "\u001b[34m#metrics {\"StartTime\": 1682084582.524733, \"EndTime\": 1682084582.5247493, \"Dimensions\": {\"Algorithm\": \"Linear Learner\", \"Host\": \"algo-1\", \"Operation\": \"training\", \"epoch\": 4, \"model\": 14}, \"Metrics\": {\"train_absolute_loss_objective\": {\"sum\": 0.28091791152954104, \"count\": 1, \"min\": 0.28091791152954104, \"max\": 0.28091791152954104}}}\u001b[0m\n",
      "\u001b[34m#metrics {\"StartTime\": 1682084582.5248044, \"EndTime\": 1682084582.5248175, \"Dimensions\": {\"Algorithm\": \"Linear Learner\", \"Host\": \"algo-1\", \"Operation\": \"training\", \"epoch\": 4, \"model\": 15}, \"Metrics\": {\"train_absolute_loss_objective\": {\"sum\": 0.2835162830352783, \"count\": 1, \"min\": 0.2835162830352783, \"max\": 0.2835162830352783}}}\u001b[0m\n",
      "\u001b[34m#metrics {\"StartTime\": 1682084582.5248594, \"EndTime\": 1682084582.5248709, \"Dimensions\": {\"Algorithm\": \"Linear Learner\", \"Host\": \"algo-1\", \"Operation\": \"training\", \"epoch\": 4, \"model\": 16}, \"Metrics\": {\"train_absolute_loss_objective\": {\"sum\": 0.7754006958007813, \"count\": 1, \"min\": 0.7754006958007813, \"max\": 0.7754006958007813}}}\u001b[0m\n",
      "\u001b[34m#metrics {\"StartTime\": 1682084582.5249257, \"EndTime\": 1682084582.5249398, \"Dimensions\": {\"Algorithm\": \"Linear Learner\", \"Host\": \"algo-1\", \"Operation\": \"training\", \"epoch\": 4, \"model\": 17}, \"Metrics\": {\"train_absolute_loss_objective\": {\"sum\": 0.8253388214111328, \"count\": 1, \"min\": 0.8253388214111328, \"max\": 0.8253388214111328}}}\u001b[0m\n",
      "\u001b[34m#metrics {\"StartTime\": 1682084582.5249906, \"EndTime\": 1682084582.5250025, \"Dimensions\": {\"Algorithm\": \"Linear Learner\", \"Host\": \"algo-1\", \"Operation\": \"training\", \"epoch\": 4, \"model\": 18}, \"Metrics\": {\"train_absolute_loss_objective\": {\"sum\": 0.8020706558227539, \"count\": 1, \"min\": 0.8020706558227539, \"max\": 0.8020706558227539}}}\u001b[0m\n",
      "\u001b[34m#metrics {\"StartTime\": 1682084582.525042, \"EndTime\": 1682084582.5250528, \"Dimensions\": {\"Algorithm\": \"Linear Learner\", \"Host\": \"algo-1\", \"Operation\": \"training\", \"epoch\": 4, \"model\": 19}, \"Metrics\": {\"train_absolute_loss_objective\": {\"sum\": 0.7988282585144043, \"count\": 1, \"min\": 0.7988282585144043, \"max\": 0.7988282585144043}}}\u001b[0m\n",
      "\u001b[34m#metrics {\"StartTime\": 1682084582.5250998, \"EndTime\": 1682084582.5251114, \"Dimensions\": {\"Algorithm\": \"Linear Learner\", \"Host\": \"algo-1\", \"Operation\": \"training\", \"epoch\": 4, \"model\": 20}, \"Metrics\": {\"train_absolute_loss_objective\": {\"sum\": 0.43630308628082276, \"count\": 1, \"min\": 0.43630308628082276, \"max\": 0.43630308628082276}}}\u001b[0m\n",
      "\u001b[34m#metrics {\"StartTime\": 1682084582.5251508, \"EndTime\": 1682084582.5251613, \"Dimensions\": {\"Algorithm\": \"Linear Learner\", \"Host\": \"algo-1\", \"Operation\": \"training\", \"epoch\": 4, \"model\": 21}, \"Metrics\": {\"train_absolute_loss_objective\": {\"sum\": 0.3043873929977417, \"count\": 1, \"min\": 0.3043873929977417, \"max\": 0.3043873929977417}}}\u001b[0m\n",
      "\u001b[34m#metrics {\"StartTime\": 1682084582.525207, \"EndTime\": 1682084582.5252197, \"Dimensions\": {\"Algorithm\": \"Linear Learner\", \"Host\": \"algo-1\", \"Operation\": \"training\", \"epoch\": 4, \"model\": 22}, \"Metrics\": {\"train_absolute_loss_objective\": {\"sum\": 0.3452544641494751, \"count\": 1, \"min\": 0.3452544641494751, \"max\": 0.3452544641494751}}}\u001b[0m\n",
      "\u001b[34m#metrics {\"StartTime\": 1682084582.52527, \"EndTime\": 1682084582.5252872, \"Dimensions\": {\"Algorithm\": \"Linear Learner\", \"Host\": \"algo-1\", \"Operation\": \"training\", \"epoch\": 4, \"model\": 23}, \"Metrics\": {\"train_absolute_loss_objective\": {\"sum\": 0.32575010299682616, \"count\": 1, \"min\": 0.32575010299682616, \"max\": 0.32575010299682616}}}\u001b[0m\n",
      "\u001b[34m#metrics {\"StartTime\": 1682084582.5253417, \"EndTime\": 1682084582.5253553, \"Dimensions\": {\"Algorithm\": \"Linear Learner\", \"Host\": \"algo-1\", \"Operation\": \"training\", \"epoch\": 4, \"model\": 24}, \"Metrics\": {\"train_absolute_loss_objective\": {\"sum\": 0.9113044929504395, \"count\": 1, \"min\": 0.9113044929504395, \"max\": 0.9113044929504395}}}\u001b[0m\n",
      "\u001b[34m#metrics {\"StartTime\": 1682084582.5253978, \"EndTime\": 1682084582.5254104, \"Dimensions\": {\"Algorithm\": \"Linear Learner\", \"Host\": \"algo-1\", \"Operation\": \"training\", \"epoch\": 4, \"model\": 25}, \"Metrics\": {\"train_absolute_loss_objective\": {\"sum\": 0.8933761119842529, \"count\": 1, \"min\": 0.8933761119842529, \"max\": 0.8933761119842529}}}\u001b[0m\n",
      "\u001b[34m#metrics {\"StartTime\": 1682084582.5254624, \"EndTime\": 1682084582.5254743, \"Dimensions\": {\"Algorithm\": \"Linear Learner\", \"Host\": \"algo-1\", \"Operation\": \"training\", \"epoch\": 4, \"model\": 26}, \"Metrics\": {\"train_absolute_loss_objective\": {\"sum\": 0.9030025577545167, \"count\": 1, \"min\": 0.9030025577545167, \"max\": 0.9030025577545167}}}\u001b[0m\n",
      "\u001b[34m#metrics {\"StartTime\": 1682084582.5255134, \"EndTime\": 1682084582.5255237, \"Dimensions\": {\"Algorithm\": \"Linear Learner\", \"Host\": \"algo-1\", \"Operation\": \"training\", \"epoch\": 4, \"model\": 27}, \"Metrics\": {\"train_absolute_loss_objective\": {\"sum\": 0.8983905696868897, \"count\": 1, \"min\": 0.8983905696868897, \"max\": 0.8983905696868897}}}\u001b[0m\n",
      "\u001b[34m#metrics {\"StartTime\": 1682084582.525564, \"EndTime\": 1682084582.5255747, \"Dimensions\": {\"Algorithm\": \"Linear Learner\", \"Host\": \"algo-1\", \"Operation\": \"training\", \"epoch\": 4, \"model\": 28}, \"Metrics\": {\"train_absolute_loss_objective\": {\"sum\": 0.9070350646972656, \"count\": 1, \"min\": 0.9070350646972656, \"max\": 0.9070350646972656}}}\u001b[0m\n",
      "\u001b[34m#metrics {\"StartTime\": 1682084582.5256147, \"EndTime\": 1682084582.5256257, \"Dimensions\": {\"Algorithm\": \"Linear Learner\", \"Host\": \"algo-1\", \"Operation\": \"training\", \"epoch\": 4, \"model\": 29}, \"Metrics\": {\"train_absolute_loss_objective\": {\"sum\": 0.9072264003753662, \"count\": 1, \"min\": 0.9072264003753662, \"max\": 0.9072264003753662}}}\u001b[0m\n",
      "\u001b[34m#metrics {\"StartTime\": 1682084582.5256622, \"EndTime\": 1682084582.5256722, \"Dimensions\": {\"Algorithm\": \"Linear Learner\", \"Host\": \"algo-1\", \"Operation\": \"training\", \"epoch\": 4, \"model\": 30}, \"Metrics\": {\"train_absolute_loss_objective\": {\"sum\": 0.9133353328704834, \"count\": 1, \"min\": 0.9133353328704834, \"max\": 0.9133353328704834}}}\u001b[0m\n",
      "\u001b[34m#metrics {\"StartTime\": 1682084582.525711, \"EndTime\": 1682084582.5257218, \"Dimensions\": {\"Algorithm\": \"Linear Learner\", \"Host\": \"algo-1\", \"Operation\": \"training\", \"epoch\": 4, \"model\": 31}, \"Metrics\": {\"train_absolute_loss_objective\": {\"sum\": 0.9302697467803955, \"count\": 1, \"min\": 0.9302697467803955, \"max\": 0.9302697467803955}}}\u001b[0m\n",
      "\u001b[34m[04/21/2023 13:43:02 INFO 139973930325824] #quality_metric: host=algo-1, epoch=4, train absolute_loss_objective <loss>=0.810030517578125\u001b[0m\n",
      "\u001b[34m[04/21/2023 13:43:02 INFO 139973930325824] #early_stopping_criteria_metric: host=algo-1, epoch=4, criteria=absolute_loss_objective, value=0.20924524784088136\u001b[0m\n",
      "\u001b[34m[04/21/2023 13:43:02 INFO 139973930325824] Saving model for epoch: 4\u001b[0m\n",
      "\u001b[34m[04/21/2023 13:43:02 INFO 139973930325824] Saved checkpoint to \"/tmp/tmp_thvayc0/mx-mod-0000.params\"\u001b[0m\n",
      "\u001b[34m[04/21/2023 13:43:02 INFO 139973930325824] #progress_metric: host=algo-1, completed 100.0 % of epochs\u001b[0m\n",
      "\u001b[34m#metrics {\"StartTime\": 1682084582.4034362, \"EndTime\": 1682084582.5365322, \"Dimensions\": {\"Algorithm\": \"Linear Learner\", \"Host\": \"algo-1\", \"Operation\": \"training\", \"epoch\": 4, \"Meta\": \"training_data_iter\"}, \"Metrics\": {\"Total Records Seen\": {\"sum\": 161.0, \"count\": 1, \"min\": 161, \"max\": 161}, \"Total Batches Seen\": {\"sum\": 37.0, \"count\": 1, \"min\": 37, \"max\": 37}, \"Max Records Seen Between Resets\": {\"sum\": 26.0, \"count\": 1, \"min\": 26, \"max\": 26}, \"Max Batches Seen Between Resets\": {\"sum\": 6.0, \"count\": 1, \"min\": 6, \"max\": 6}, \"Reset Count\": {\"sum\": 7.0, \"count\": 1, \"min\": 7, \"max\": 7}, \"Number of Records Since Last Reset\": {\"sum\": 26.0, \"count\": 1, \"min\": 26, \"max\": 26}, \"Number of Batches Since Last Reset\": {\"sum\": 6.0, \"count\": 1, \"min\": 6, \"max\": 6}}}\u001b[0m\n",
      "\u001b[34m[04/21/2023 13:43:02 INFO 139973930325824] #throughput_metric: host=algo-1, train throughput=195.12998418231138 records/second\u001b[0m\n",
      "\u001b[34m[04/21/2023 13:43:02 WARNING 139973930325824] wait_for_all_workers will not sync workers since the kv store is not running distributed\u001b[0m\n",
      "\u001b[34m[04/21/2023 13:43:02 WARNING 139973930325824] wait_for_all_workers will not sync workers since the kv store is not running distributed\u001b[0m\n",
      "\u001b[34m[2023-04-21 13:43:02.537] [tensorio] [info] epoch_stats={\"data_pipeline\": \"/opt/ml/input/data/train\", \"epoch\": 14, \"duration\": 0, \"num_examples\": 1, \"num_bytes\": 240}\u001b[0m\n",
      "\u001b[34m[2023-04-21 13:43:02.554] [tensorio] [info] epoch_stats={\"data_pipeline\": \"/opt/ml/input/data/train\", \"epoch\": 16, \"duration\": 13, \"num_examples\": 6, \"num_bytes\": 1248}\u001b[0m\n",
      "\u001b[34m[04/21/2023 13:43:02 INFO 139973930325824] #train_score (algo-1) : ('absolute_loss_objective', 5960.423227163462)\u001b[0m\n",
      "\u001b[34m[04/21/2023 13:43:02 INFO 139973930325824] #train_score (algo-1) : ('mse', 47793400.92307692)\u001b[0m\n",
      "\u001b[34m[04/21/2023 13:43:02 INFO 139973930325824] #train_score (algo-1) : ('absolute_loss', 5960.423227163462)\u001b[0m\n",
      "\u001b[34m[04/21/2023 13:43:02 INFO 139973930325824] #train_score (algo-1) : ('rmse', 6913.277147856646)\u001b[0m\n",
      "\u001b[34m[04/21/2023 13:43:02 INFO 139973930325824] #train_score (algo-1) : ('r2', 0.9405376020891246)\u001b[0m\n",
      "\u001b[34m[04/21/2023 13:43:02 INFO 139973930325824] #train_score (algo-1) : ('mae', 5960.4231520432695)\u001b[0m\n",
      "\u001b[34m[04/21/2023 13:43:02 INFO 139973930325824] #quality_metric: host=algo-1, train absolute_loss_objective <loss>=5960.423227163462\u001b[0m\n",
      "\u001b[34m[04/21/2023 13:43:02 INFO 139973930325824] #quality_metric: host=algo-1, train mse <loss>=47793400.92307692\u001b[0m\n",
      "\u001b[34m[04/21/2023 13:43:02 INFO 139973930325824] #quality_metric: host=algo-1, train absolute_loss <loss>=5960.423227163462\u001b[0m\n",
      "\u001b[34m[04/21/2023 13:43:02 INFO 139973930325824] #quality_metric: host=algo-1, train rmse <loss>=6913.277147856646\u001b[0m\n",
      "\u001b[34m[04/21/2023 13:43:02 INFO 139973930325824] #quality_metric: host=algo-1, train r2 <loss>=0.9405376020891246\u001b[0m\n",
      "\u001b[34m[04/21/2023 13:43:02 INFO 139973930325824] #quality_metric: host=algo-1, train mae <loss>=5960.4231520432695\u001b[0m\n",
      "\u001b[34m[04/21/2023 13:43:02 INFO 139973930325824] Best model found for hyperparameters: {\"optimizer\": \"adam\", \"learning_rate\": 0.1, \"wd\": 0.0001, \"l1\": 0.0, \"lr_scheduler_step\": 100, \"lr_scheduler_factor\": 0.99, \"lr_scheduler_minimum_lr\": 0.0001}\u001b[0m\n",
      "\u001b[34m[04/21/2023 13:43:02 INFO 139973930325824] Saved checkpoint to \"/tmp/tmp2undke2x/mx-mod-0000.params\"\u001b[0m\n",
      "\u001b[34m[04/21/2023 13:43:02 INFO 139973930325824] Test data is not provided.\u001b[0m\n",
      "\u001b[34m#metrics {\"StartTime\": 1682084581.638276, \"EndTime\": 1682084582.5644765, \"Dimensions\": {\"Algorithm\": \"Linear Learner\", \"Host\": \"algo-1\", \"Operation\": \"training\"}, \"Metrics\": {\"initialize.time\": {\"sum\": 172.5010871887207, \"count\": 1, \"min\": 172.5010871887207, \"max\": 172.5010871887207}, \"epochs\": {\"sum\": 5.0, \"count\": 1, \"min\": 5, \"max\": 5}, \"check_early_stopping.time\": {\"sum\": 4.588842391967773, \"count\": 5, \"min\": 0.20313262939453125, \"max\": 1.848459243774414}, \"update.time\": {\"sum\": 705.5981159210205, \"count\": 5, \"min\": 127.5179386138916, \"max\": 161.96584701538086}, \"finalize.time\": {\"sum\": 20.28179168701172, \"count\": 1, \"min\": 20.28179168701172, \"max\": 20.28179168701172}, \"setuptime\": {\"sum\": 2.3603439331054688, \"count\": 1, \"min\": 2.3603439331054688, \"max\": 2.3603439331054688}, \"totaltime\": {\"sum\": 1038.2099151611328, \"count\": 1, \"min\": 1038.2099151611328, \"max\": 1038.2099151611328}}}\u001b[0m\n",
      "\n",
      "2023-04-21 13:43:22 Uploading - Uploading generated training model\n",
      "2023-04-21 13:43:22 Completed - Training job completed\n",
      "Training seconds: 137\n",
      "Billable seconds: 137\n"
     ]
    }
   ],
   "source": [
    "linear = sagemaker.estimator.Estimator(container,\n",
    "                                       role, \n",
    "                                       train_instance_count = 1, \n",
    "                                       train_instance_type = 'ml.c4.xlarge',\n",
    "                                       output_path = output_location,\n",
    "                                       sagemaker_session = sagemaker_session)\n",
    "linear.set_hyperparameters(feature_dim = 1,\n",
    "                           predictor_type = 'regressor',\n",
    "                           mini_batch_size = 5,\n",
    "                           epochs = 5,\n",
    "                           num_models = 32,\n",
    "                           loss = 'absolute_loss')\n",
    "linear.fit({'train': s3_train_data})"
   ]
  },
  {
   "cell_type": "code",
   "execution_count": 51,
   "id": "2cf54fa4-ccff-451c-8003-62ae62b0235b",
   "metadata": {
    "tags": []
   },
   "outputs": [],
   "source": [
    "# # for reducing billing time\n",
    "# linear = sagemaker.estimator.Estimator(container,\n",
    "#                                        role, \n",
    "#                                        train_instance_count = 1, \n",
    "#                                        train_instance_type = 'ml.c4.xlarge',\n",
    "#                                        output_path = output_location,\n",
    "#                                        sagemaker_session = sagemaker_session,\n",
    "#                                        train_use_spot_instances=True,\n",
    "#                                        train_max_run=300,\n",
    "#                                        train_max_wait=600\n",
    "#                                       )\n",
    "# linear.set_hyperparameters(feature_dim = 1,\n",
    "#                            predictor_type = 'regressor',\n",
    "#                            mini_batch_size = 5,\n",
    "#                            epochs = 5,\n",
    "#                            num_models = 32,\n",
    "#                            loss = 'absolute_loss')\n",
    "# linear.fit({'train': s3_train_data})"
   ]
  },
  {
   "cell_type": "markdown",
   "id": "ad0ea0d7-7d18-44e9-881e-b373376caa7e",
   "metadata": {},
   "source": [
    "### Deploy the code "
   ]
  },
  {
   "cell_type": "code",
   "execution_count": 52,
   "id": "671ed488-636c-4ecf-8180-a02012c3d4a7",
   "metadata": {
    "tags": []
   },
   "outputs": [
    {
     "name": "stderr",
     "output_type": "stream",
     "text": [
      "INFO:sagemaker:Creating model with name: linear-learner-2023-04-21-13-58-03-580\n",
      "INFO:sagemaker:Creating endpoint-config with name linear-learner-2023-04-21-13-58-03-580\n",
      "INFO:sagemaker:Creating endpoint with name linear-learner-2023-04-21-13-58-03-580\n"
     ]
    },
    {
     "name": "stdout",
     "output_type": "stream",
     "text": [
      "--------!"
     ]
    }
   ],
   "source": [
    "linear_regressor = linear.deploy(initial_instance_count = 1,\n",
    "                                          instance_type = 'ml.m4.xlarge')"
   ]
  },
  {
   "cell_type": "markdown",
   "id": "79dcf086-7a3a-42a5-822a-4612a3098311",
   "metadata": {},
   "source": [
    "### Converting csv into json for endpoint "
   ]
  },
  {
   "cell_type": "code",
   "execution_count": 53,
   "id": "fc55e30a-09ea-4114-b854-cf3f4088732c",
   "metadata": {
    "tags": []
   },
   "outputs": [],
   "source": [
    "from sagemaker.predictor import csv_serializer, json_deserializer\n",
    "linear_regressor.serializer = csv_serializer\n",
    "linear_regressor.deserializer = json_deserializer"
   ]
  },
  {
   "cell_type": "code",
   "execution_count": 54,
   "id": "99eedf3c-00ce-4c50-8a4c-35c2bb111623",
   "metadata": {
    "tags": []
   },
   "outputs": [
    {
     "name": "stderr",
     "output_type": "stream",
     "text": [
      "WARNING:sagemaker.deprecations:The csv_serializer has been renamed in sagemaker>=2.\n",
      "See: https://sagemaker.readthedocs.io/en/stable/v2.html for details.\n",
      "WARNING:sagemaker.deprecations:The json_deserializer has been renamed in sagemaker>=2.\n",
      "See: https://sagemaker.readthedocs.io/en/stable/v2.html for details.\n"
     ]
    },
    {
     "data": {
      "text/plain": [
       "{'predictions': [{'score': 158201.1875},\n",
       "  {'score': 164620.34375},\n",
       "  {'score': 143223.140625},\n",
       "  {'score': 51215.09765625},\n",
       "  {'score': 34097.3203125},\n",
       "  {'score': 64053.42578125},\n",
       "  {'score': 83310.921875},\n",
       "  {'score': 151782.015625},\n",
       "  {'score': 121825.921875}]}"
      ]
     },
     "execution_count": 54,
     "metadata": {},
     "output_type": "execute_result"
    }
   ],
   "source": [
    "result = linear_regressor.predict(X_test)\n",
    "result "
   ]
  },
  {
   "cell_type": "code",
   "execution_count": 55,
   "id": "f0b61dde-3e1c-4cbe-90a7-19ccbc722b5c",
   "metadata": {
    "tags": []
   },
   "outputs": [
    {
     "data": {
      "text/plain": [
       "array([158201.1875    , 164620.34375   , 143223.140625  ,  51215.09765625,\n",
       "        34097.3203125 ,  64053.42578125,  83310.921875  , 151782.015625  ,\n",
       "       121825.921875  ])"
      ]
     },
     "execution_count": 55,
     "metadata": {},
     "output_type": "execute_result"
    }
   ],
   "source": [
    "predictions = np.array([r['score'] for r in result['predictions']])\n",
    "predictions"
   ]
  },
  {
   "cell_type": "code",
   "execution_count": 56,
   "id": "6eecb001-cb4e-4b0f-a0f4-49832e652041",
   "metadata": {
    "tags": []
   },
   "outputs": [
    {
     "data": {
      "text/plain": [
       "(9,)"
      ]
     },
     "execution_count": 56,
     "metadata": {},
     "output_type": "execute_result"
    }
   ],
   "source": [
    "predictions.shape"
   ]
  },
  {
   "cell_type": "code",
   "execution_count": 57,
   "id": "e459a96f-adce-48f4-8533-05400a102b7e",
   "metadata": {
    "tags": []
   },
   "outputs": [
    {
     "data": {
      "text/plain": [
       "Text(0.5, 1.0, 'Salary vs. Years of Experience')"
      ]
     },
     "execution_count": 57,
     "metadata": {},
     "output_type": "execute_result"
    },
    {
     "data": {
      "image/png": "[encoded data removed]",
      "text/plain": [
       "<Figure size 640x480 with 1 Axes>"
      ]
     },
     "metadata": {},
     "output_type": "display_data"
    }
   ],
   "source": [
    "import matplotlib.pyplot as plt\n",
    "%matplotlib inline\n",
    "plt.scatter(X_test, y_test, color = 'gray')\n",
    "plt.plot(X_test, predictions, color = 'red')\n",
    "plt.xlabel('Years of Experience (Testing Dataset)')\n",
    "plt.ylabel('salary')\n",
    "plt.title('Salary vs. Years of Experience')"
   ]
  },
  {
   "cell_type": "code",
   "execution_count": 58,
   "id": "af3ffdad-fb35-44ad-85b6-378f0fed3329",
   "metadata": {
    "tags": []
   },
   "outputs": [
    {
     "data": {
      "text/plain": [
       "15610.595257283632"
      ]
     },
     "execution_count": 58,
     "metadata": {},
     "output_type": "execute_result"
    }
   ],
   "source": [
    "np.sqrt(metrics.mean_squared_error(y_test,predictions))"
   ]
  },
  {
   "cell_type": "markdown",
   "id": "b2f3d183-14df-4e1a-a75a-623695ea544a",
   "metadata": {},
   "source": [
    "### Deleting endpoint"
   ]
  },
  {
   "cell_type": "code",
   "execution_count": null,
   "id": "2cea4e1a-84e8-43c3-ad0b-3d687f6fcc34",
   "metadata": {},
   "outputs": [],
   "source": [
    "linear_regressor.delete_endpoint()"
   ]
  }
 ],
 "metadata": {
  "kernelspec": {
   "display_name": "conda_python3",
   "language": "python",
   "name": "conda_python3"
  },
  "language_info": {
   "codemirror_mode": {
    "name": "ipython",
    "version": 3
   },
   "file_extension": ".py",
   "mimetype": "text/x-python",
   "name": "python",
   "nbconvert_exporter": "python",
   "pygments_lexer": "ipython3",
   "version": "3.10.8"
  }
 },
 "nbformat": 4,
 "nbformat_minor": 5
}
